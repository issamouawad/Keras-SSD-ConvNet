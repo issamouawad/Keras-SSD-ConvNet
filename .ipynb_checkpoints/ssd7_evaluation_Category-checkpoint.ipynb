{
 "cells": [
  {
   "cell_type": "code",
   "execution_count": 1,
   "metadata": {},
   "outputs": [
    {
     "name": "stderr",
     "output_type": "stream",
     "text": [
      "C:\\Users\\issa\\AppData\\Local\\conda\\conda\\envs\\tensorflow_gpu\\lib\\site-packages\\h5py\\__init__.py:36: FutureWarning: Conversion of the second argument of issubdtype from `float` to `np.floating` is deprecated. In future, it will be treated as `np.float64 == np.dtype(float).type`.\n",
      "  from ._conv import register_converters as _register_converters\n",
      "Using TensorFlow backend.\n"
     ]
    }
   ],
   "source": [
    "from keras import backend as K\n",
    "from keras.models import load_model\n",
    "from keras.optimizers import Adam\n",
    "from scipy.misc import imread\n",
    "import numpy as np\n",
    "from matplotlib import pyplot as plt\n",
    "\n",
    "from models.keras_ssd300 import ssd_300\n",
    "from keras_loss_function.keras_ssd_loss import SSDLoss\n",
    "from keras_layers.keras_layer_AnchorBoxes import AnchorBoxes\n",
    "from keras_layers.keras_layer_DecodeDetections import DecodeDetections\n",
    "from keras_layers.keras_layer_DecodeDetectionsFast import DecodeDetectionsFast\n",
    "from keras_layers.keras_layer_L2Normalization import L2Normalization\n",
    "from data_generator.object_detection_2d_data_generator import DataGenerator\n",
    "from eval_utils.average_precision_evaluator import Evaluator\n",
    "from ssd_encoder_decoder.ssd_output_decoder import decode_detections, decode_detections_fast\n",
    "\n",
    "%matplotlib inline"
   ]
  },
  {
   "cell_type": "code",
   "execution_count": 2,
   "metadata": {},
   "outputs": [],
   "source": [
    "# Set a few configuration parameters.\n",
    "img_height = 480\n",
    "img_width = 640\n",
    "n_classes = 4\n",
    "model_mode = 'inference'"
   ]
  },
  {
   "cell_type": "code",
   "execution_count": 3,
   "metadata": {},
   "outputs": [],
   "source": [
    "# TODO: Set the path to the `.h5` file of the model to be loaded.\n",
    "model_path = 'GoogLeNet_ssd7_Category_epoch-33_loss-2.5740_val_loss-2.4835.h5'\n",
    "\n",
    "# We need to create an SSDLoss object in order to pass that to the model loader.\n",
    "ssd_loss = SSDLoss(neg_pos_ratio=3, alpha=1.0)\n",
    "\n",
    "K.clear_session() # Clear previous models from memory.\n",
    "\n",
    "model = load_model(model_path, custom_objects={'AnchorBoxes': AnchorBoxes,\n",
    "                                               'L2Normalization': L2Normalization,\n",
    "                                               'DecodeDetections': DecodeDetections,\n",
    "                                               'compute_loss': ssd_loss.compute_loss})"
   ]
  },
  {
   "cell_type": "code",
   "execution_count": 14,
   "metadata": {
    "scrolled": true
   },
   "outputs": [
    {
     "name": "stdout",
     "output_type": "stream",
     "text": [
      "Processing image set 'testseen.txt': 100%|██████████████████████████████████████████| 320/320 [00:00<00:00, 351.43it/s]\n"
     ]
    }
   ],
   "source": [
    "dataset = DataGenerator()\n",
    "\n",
    "# TODO: Set the paths to the dataset here.\n",
    "Pascal_VOC_dataset_images_dir = '../datasets/ICUB/testseenimg'\n",
    "Pascal_VOC_dataset_annotations_dir = '../datasets/ICUB/testseenans'\n",
    "Pascal_VOC_dataset_image_set_filename = '../datasets/ICUB/testseen.txt'\n",
    "\n",
    "# The XML parser needs to now what object class names to look for and in which order to map them to integers.\n",
    "classes = ['background','book','cellphone','mouse','ringbinder']\n",
    "           \n",
    "\n",
    "dataset.parse_xml(images_dirs=[Pascal_VOC_dataset_images_dir],\n",
    "                  image_set_filenames=[Pascal_VOC_dataset_image_set_filename],\n",
    "                  annotations_dirs=[Pascal_VOC_dataset_annotations_dir],\n",
    "                  classes=classes,\n",
    "                  include_classes='all',\n",
    "                  exclude_truncated=False,\n",
    "                  exclude_difficult=False,\n",
    "                  ret=False)"
   ]
  },
  {
   "cell_type": "code",
   "execution_count": null,
   "metadata": {
    "scrolled": true
   },
   "outputs": [
    {
     "name": "stdout",
     "output_type": "stream",
     "text": [
      "Number of images in the evaluation dataset: 320\n",
      "\n",
      "Producing predictions batch-wise:   0%|                                                         | 0/80 [00:00<?, ?it/s]"
     ]
    }
   ],
   "source": [
    "evaluator = Evaluator(model=model,\n",
    "                      n_classes=n_classes,\n",
    "                      data_generator=dataset,\n",
    "                      model_mode=model_mode)\n",
    "\n",
    "results = evaluator(img_height=img_height,\n",
    "                    img_width=img_width,\n",
    "                    batch_size=4,\n",
    "                    data_generator_mode='resize',\n",
    "                    round_confidences=False,\n",
    "                    matching_iou_threshold=0.3,\n",
    "                    border_pixels='include',\n",
    "                    sorting_algorithm='quicksort',\n",
    "                    average_precision_mode='sample',\n",
    "                    num_recall_points=11,\n",
    "                    ignore_neutral_boxes=True,\n",
    "                    return_precisions=True,\n",
    "                    return_recalls=True,\n",
    "                    return_average_precisions=True,\n",
    "                    verbose=True)\n",
    "\n",
    "mean_average_precision, average_precisions, precisions, recalls = results"
   ]
  },
  {
   "cell_type": "code",
   "execution_count": 6,
   "metadata": {},
   "outputs": [],
   "source": [
    "import numpy as np\n",
    "np.savez('Test_Results/SSD7_4_unseen.npz', mean_average_precision=mean_average_precision, average_precisions=average_precisions,precisions=precisions,recalls=recalls)"
   ]
  },
  {
   "cell_type": "code",
   "execution_count": 7,
   "metadata": {},
   "outputs": [
    {
     "name": "stdout",
     "output_type": "stream",
     "text": [
      "book          AP    0.7\n",
      "cellphone     AP    0.696\n",
      "mouse         AP    0.859\n",
      "ringbinder    AP    0.091\n",
      "\n",
      "              mAP   0.586\n"
     ]
    }
   ],
   "source": [
    "for i in range(1, len(average_precisions)):\n",
    "    print(\"{:<14}{:<6}{}\".format(classes[i], 'AP', round(average_precisions[i], 3)))\n",
    "print()\n",
    "print(\"{:<14}{:<6}{}\".format('','mAP', round(mean_average_precision, 3)))"
   ]
  },
  {
   "cell_type": "code",
   "execution_count": 11,
   "metadata": {},
   "outputs": [
    {
     "data": {
      "image/png": "[encoded data removed]",
      "text/plain": [
       "<Figure size 720x720 with 4 Axes>"
      ]
     },
     "metadata": {},
     "output_type": "display_data"
    }
   ],
   "source": [
    "m = max((n_classes + 1) // 2, 2)\n",
    "n = 2\n",
    "\n",
    "fig, cells = plt.subplots(m, n, figsize=(n*5,m*5))\n",
    "for i in range(m):\n",
    "    for j in range(n):\n",
    "        if n*i+j+1 > n_classes: break\n",
    "        cells[i, j].plot(recalls[n*i+j+1], precisions[n*i+j+1], color='blue', linewidth=1.0)\n",
    "        cells[i, j].set_xlabel('recall', fontsize=14)\n",
    "        cells[i, j].set_ylabel('precision', fontsize=14)\n",
    "        cells[i, j].grid(True)\n",
    "        cells[i, j].set_xticks(np.linspace(0,1,11))\n",
    "        cells[i, j].set_yticks(np.linspace(0,1,11))\n",
    "        cells[i, j].set_title(\"{}, AP: {:.3f}\".format(classes[n*i+j+1], average_precisions[n*i+j+1]), fontsize=16)"
   ]
  },
  {
   "cell_type": "code",
   "execution_count": 9,
   "metadata": {},
   "outputs": [
    {
     "name": "stdout",
     "output_type": "stream",
     "text": [
      "Matching predictions to ground truth, class 1/4.: 100%|█████████████████████████| 2188/2188 [00:00<00:00, 30887.28it/s]\n",
      "Matching predictions to ground truth, class 2/4.: 100%|█████████████████████████| 4020/4020 [00:00<00:00, 27780.42it/s]\n",
      "Matching predictions to ground truth, class 3/4.: 100%|█████████████████████████| 1219/1219 [00:00<00:00, 21053.90it/s]\n",
      "Matching predictions to ground truth, class 4/4.: 100%|███████████████████████| 12573/12573 [00:00<00:00, 29476.31it/s]\n",
      "Computing precisions and recalls, class 1/4\n",
      "5\n",
      "Computing precisions and recalls, class 2/4\n",
      "5\n",
      "Computing precisions and recalls, class 3/4\n",
      "5\n",
      "Computing precisions and recalls, class 4/4\n",
      "5\n",
      "Computing average precision, class 1/4\n",
      "Computing average precision, class 2/4\n",
      "Computing average precision, class 3/4\n",
      "Computing average precision, class 4/4\n"
     ]
    }
   ],
   "source": [
    "evaluator.get_num_gt_per_class(ignore_neutral_boxes=True,\n",
    "                               verbose=False,\n",
    "                               ret=False)\n",
    "\n",
    "evaluator.match_predictions(ignore_neutral_boxes=True,\n",
    "                            matching_iou_threshold=0.5,\n",
    "                            border_pixels='include',\n",
    "                            sorting_algorithm='quicksort',\n",
    "                            verbose=True,\n",
    "                            ret=False)\n",
    "\n",
    "precisions, recalls = evaluator.compute_precision_recall(verbose=True, ret=True)\n",
    "\n",
    "average_precisions = evaluator.compute_average_precisions(mode='integrate',\n",
    "                                                          num_recall_points=11,\n",
    "                                                          verbose=True,\n",
    "                                                          ret=True)\n",
    "\n",
    "mean_average_precision = evaluator.compute_mean_average_precision(ret=True)"
   ]
  },
  {
   "cell_type": "code",
   "execution_count": 10,
   "metadata": {},
   "outputs": [
    {
     "name": "stdout",
     "output_type": "stream",
     "text": [
      "book          AP    0.338\n",
      "cellphone     AP    0.45\n",
      "mouse         AP    0.936\n",
      "ringbinder    AP    0.059\n",
      "\n",
      "              mAP   0.446\n"
     ]
    }
   ],
   "source": [
    "for i in range(1, len(average_precisions)):\n",
    "    print(\"{:<14}{:<6}{}\".format(classes[i], 'AP', round(average_precisions[i], 3)))\n",
    "print()\n",
    "print(\"{:<14}{:<6}{}\".format('','mAP', round(mean_average_precision, 3)))"
   ]
  },
  {
   "cell_type": "code",
   "execution_count": 7,
   "metadata": {},
   "outputs": [],
   "source": [
    "evaluator??"
   ]
  },
  {
   "cell_type": "code",
   "execution_count": null,
   "metadata": {},
   "outputs": [],
   "source": []
  }
 ],
 "metadata": {
  "kernelspec": {
   "display_name": "Python 3",
   "language": "python",
   "name": "python3"
  },
  "language_info": {
   "codemirror_mode": {
    "name": "ipython",
    "version": 3
   },
   "file_extension": ".py",
   "mimetype": "text/x-python",
   "name": "python",
   "nbconvert_exporter": "python",
   "pygments_lexer": "ipython3",
   "version": "3.5.5"
  }
 },
 "nbformat": 4,
 "nbformat_minor": 2
}
