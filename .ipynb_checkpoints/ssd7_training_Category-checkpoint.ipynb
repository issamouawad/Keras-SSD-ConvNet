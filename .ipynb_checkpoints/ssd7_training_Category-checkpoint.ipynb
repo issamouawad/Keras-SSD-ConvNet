{
 "cells": [
  {
   "cell_type": "markdown",
   "metadata": {},
   "source": [
    "# SSD7 Training Tutorial\n",
    "\n",
    "This tutorial explains how to train an SSD7 on the Udacity road traffic datasets, and just generally how to use this SSD implementation.\n",
    "\n",
    "Disclaimer about SSD7:\n",
    "As you will see below, training SSD7 on the aforementioned datasets yields alright results, but I'd like to emphasize that SSD7 is not a carefully optimized network architecture. The idea was just to build a low-complexity network that is fast (roughly 127 FPS or more than 3 times as fast as SSD300 on a GTX 1070) for testing purposes. Would slightly different anchor box scaling factors or a slightly different number of filters in individual convolution layers make SSD7 significantly better at similar complexity? I don't know, I haven't tried."
   ]
  },
  {
   "cell_type": "code",
   "execution_count": 1,
   "metadata": {},
   "outputs": [
    {
     "name": "stderr",
     "output_type": "stream",
     "text": [
      "C:\\Users\\issa\\AppData\\Local\\conda\\conda\\envs\\tensorflow_gpu\\lib\\site-packages\\h5py\\__init__.py:36: FutureWarning: Conversion of the second argument of issubdtype from `float` to `np.floating` is deprecated. In future, it will be treated as `np.float64 == np.dtype(float).type`.\n",
      "  from ._conv import register_converters as _register_converters\n",
      "Using TensorFlow backend.\n"
     ]
    }
   ],
   "source": [
    "from keras.optimizers import Adam\n",
    "from keras.callbacks import ModelCheckpoint, EarlyStopping, ReduceLROnPlateau, TerminateOnNaN, CSVLogger\n",
    "from keras import backend as K\n",
    "from keras.models import load_model\n",
    "from math import ceil\n",
    "import numpy as np\n",
    "from matplotlib import pyplot as plt\n",
    "\n",
    "from models.keras_ssd7 import build_model\n",
    "from keras_loss_function.keras_ssd_loss import SSDLoss\n",
    "from keras_layers.keras_layer_AnchorBoxes import AnchorBoxes\n",
    "from keras_layers.keras_layer_DecodeDetections import DecodeDetections\n",
    "from keras_layers.keras_layer_DecodeDetectionsFast import DecodeDetectionsFast\n",
    "\n",
    "from ssd_encoder_decoder.ssd_input_encoder import SSDInputEncoder\n",
    "from ssd_encoder_decoder.ssd_output_decoder import decode_detections, decode_detections_fast\n",
    "\n",
    "from data_generator.object_detection_2d_data_generator import DataGenerator\n",
    "from data_generator.object_detection_2d_misc_utils import apply_inverse_transforms\n",
    "from data_generator.data_augmentation_chain_variable_input_size import DataAugmentationVariableInputSize\n",
    "from data_generator.data_augmentation_chain_constant_input_size import DataAugmentationConstantInputSize\n",
    "from data_generator.data_augmentation_chain_original_ssd import SSDDataAugmentation\n",
    "\n",
    "%matplotlib inline"
   ]
  },
  {
   "cell_type": "markdown",
   "metadata": {},
   "source": [
    "## 1. Set the model configuration parameters\n",
    "\n",
    "The cell below sets a number of parameters that define the model configuration. The parameters set here are being used both by the `build_model()` function that builds the model as well as further down by the constructor for the `SSDInputEncoder` object that is needed to to match ground truth and anchor boxes during the training.\n",
    "\n",
    "Here are just some comments on a few of the parameters, read the documentation for more details:\n",
    "\n",
    "* Set the height, width, and number of color channels to whatever you want the model to accept as image input. If your input images have a different size than you define as the model input here, or if your images have non-uniform size, then you must use the data generator's image transformations (resizing and/or cropping) so that your images end up having the required input size before they are fed to the model. to convert your images to the model input size during training. The SSD300 training tutorial uses the same image pre-processing and data augmentation as the original Caffe implementation, so take a look at that to see one possibility of how to deal with non-uniform-size images.\n",
    "* The number of classes is the number of positive classes in your dataset, e.g. 20 for Pascal VOC or 80 for MS COCO. Class ID 0 must always be reserved for the background class, i.e. your positive classes must have positive integers as their IDs in your dataset.\n",
    "* The `mode` argument in the `build_model()` function determines whether the model will be built with or without a `DecodeDetections` layer as its last layer. In 'training' mode, the model outputs the raw prediction tensor, while in 'inference' and 'inference_fast' modes, the raw predictions are being decoded into absolute coordinates and filtered via confidence thresholding, non-maximum suppression, and top-k filtering. The difference between latter two modes is that 'inference' uses the decoding procedure of the original Caffe implementation, while 'inference_fast' uses a faster, but possibly less accurate decoding procedure.\n",
    "* The reason why the list of scaling factors has 5 elements even though there are only 4 predictor layers in tSSD7 is that the last scaling factor is used for the second aspect-ratio-1 box of the last predictor layer. Refer to the documentation for details.\n",
    "* `build_model()` and `SSDInputEncoder` have two arguments for the anchor box aspect ratios: `aspect_ratios_global` and `aspect_ratios_per_layer`. You can use either of the two, you don't need to set both. If you use `aspect_ratios_global`, then you pass one list of aspect ratios and these aspect ratios will be used for all predictor layers. Every aspect ratio you want to include must be listed once and only once. If you use `aspect_ratios_per_layer`, then you pass a nested list containing lists of aspect ratios for each individual predictor layer. This is what the SSD300 training tutorial does. It's your design choice whether all predictor layers should use the same aspect ratios or whether you think that for your dataset, certain aspect ratios are only necessary for some predictor layers but not for others. Of course more aspect ratios means more predicted boxes, which in turn means increased computational complexity.\n",
    "* If `two_boxes_for_ar1 == True`, then each predictor layer will predict two boxes with aspect ratio one, one a bit smaller, the other one a bit larger.\n",
    "* If `clip_boxes == True`, then the anchor boxes will be clipped so that they lie entirely within the image boundaries. It is recommended not to clip the boxes. The anchor boxes form the reference frame for the localization prediction. This reference frame should be the same at every spatial position.\n",
    "* In the matching process during the training, the anchor box offsets are being divided by the variances. Leaving them at 1.0 for each of the four box coordinates means that they have no effect. Setting them to less than 1.0 spreads the imagined anchor box offset distribution for the respective box coordinate.\n",
    "* `normalize_coords` converts all coordinates from absolute coordinate to coordinates that are relative to the image height and width. This setting has no effect on the outcome of the training."
   ]
  },
  {
   "cell_type": "code",
   "execution_count": 2,
   "metadata": {},
   "outputs": [],
   "source": [
    "img_height = 480 # Height of the input images\n",
    "img_width = 640 # Width of the input images\n",
    "img_channels = 3 # Number of color channels of the input images\n",
    "intensity_mean = 127.5 # Set this to your preference (maybe `None`). The current settings transform the input pixel values to the interval `[-1,1]`.\n",
    "intensity_range = 127.5 # Set this to your preference (maybe `None`). The current settings transform the input pixel values to the interval `[-1,1]`.\n",
    "n_classes =4 # Number of positive classes\n",
    "scales = [0.08, 0.16, 0.32, 0.64, 0.96] # An explicit list of anchor box scaling factors. If this is passed, it will override `min_scale` and `max_scale`.\n",
    "aspect_ratios = [0.5, 1.0, 2.0] # The list of aspect ratios for the anchor boxes\n",
    "two_boxes_for_ar1 = True # Whether or not you want to generate two anchor boxes for aspect ratio 1\n",
    "steps = None # In case you'd like to set the step sizes for the anchor box grids manually; not recommended\n",
    "offsets = None # In case you'd like to set the offsets for the anchor box grids manually; not recommended\n",
    "clip_boxes = False # Whether or not to clip the anchor boxes to lie entirely within the image boundaries\n",
    "variances = [1.0, 1.0, 1.0, 1.0] # The list of variances by which the encoded target coordinates are scaled\n",
    "normalize_coords = True # Whether or not the model is supposed to use coordinates relative to the image size"
   ]
  },
  {
   "cell_type": "markdown",
   "metadata": {},
   "source": [
    "## 2. Build or load the model\n",
    "\n",
    "You will want to execute either of the two code cells in the subsequent two sub-sections, not both."
   ]
  },
  {
   "cell_type": "markdown",
   "metadata": {},
   "source": [
    "### 2.1 Create a new model\n",
    "\n",
    "If you want to create a new model, this is the relevant section for you. If you want to load a previously saved model, skip ahead to section 2.2.\n",
    "\n",
    "The code cell below does the following things:\n",
    "1. It calls the function `build_model()` to build the model.\n",
    "2. It optionally loads some weights into the model.\n",
    "3. It then compiles the model for the training. In order to do so, we're defining an optimizer (Adam) and a loss function (SSDLoss) to be passed to the `compile()` method.\n",
    "\n",
    "`SSDLoss` is a custom Keras loss function that implements the multi-task log loss for classification and smooth L1 loss for localization. `neg_pos_ratio` and `alpha` are set as in the paper."
   ]
  },
  {
   "cell_type": "code",
   "execution_count": 3,
   "metadata": {},
   "outputs": [],
   "source": [
    "# 1: Build the Keras model\n",
    "\n",
    "K.clear_session() # Clear previous models from memory.\n",
    "\n",
    "model = build_model(image_size=(img_height, img_width, img_channels),\n",
    "                    n_classes=n_classes,\n",
    "                    mode='training',\n",
    "                    l2_regularization=0.0005,\n",
    "                    scales=scales,\n",
    "                    aspect_ratios_global=aspect_ratios,\n",
    "                    aspect_ratios_per_layer=None,\n",
    "                    two_boxes_for_ar1=two_boxes_for_ar1,\n",
    "                    steps=steps,\n",
    "                    offsets=offsets,\n",
    "                    clip_boxes=clip_boxes,\n",
    "                    variances=variances,\n",
    "                    normalize_coords=normalize_coords,\n",
    "                    subtract_mean=intensity_mean,\n",
    "                    divide_by_stddev=intensity_range)\n",
    "\n",
    "# 2: Optional: Load some weights\n",
    "\n",
    "#model.load_weights('./ssd7_weights.h5', by_name=True)\n",
    "\n",
    "# 3: Instantiate an Adam optimizer and the SSD loss function and compile the model\n",
    "\n",
    "adam = Adam(lr=0.001, beta_1=0.9, beta_2=0.999, epsilon=1e-08, decay=0.0)\n",
    "\n",
    "ssd_loss = SSDLoss(neg_pos_ratio=3, alpha=1.0)\n",
    "\n",
    "model.compile(optimizer=adam, loss=ssd_loss.compute_loss)"
   ]
  },
  {
   "cell_type": "markdown",
   "metadata": {},
   "source": [
    "### 2.2 Load a saved model\n",
    "\n",
    "If you have previously created and saved a model and would now like to load it, simply execute the next code cell. The only thing you need to do is to set the path to the saved model HDF5 file that you would like to load.\n",
    "\n",
    "The SSD model contains custom objects: Neither the loss function, nor the anchor box or detection decoding layer types are contained in the Keras core library, so we need to provide them to the model loader.\n",
    "\n",
    "This next code cell assumes that you want to load a model that was created in 'training' mode. If you want to load a model that was created in 'inference' or 'inference_fast' mode, you'll have to add the `DecodeDetections` or `DecodeDetectionsFast` layer type to the `custom_objects` dictionary below."
   ]
  },
  {
   "cell_type": "code",
   "execution_count": 3,
   "metadata": {},
   "outputs": [],
   "source": [
    "# TODO: Set the path to the `.h5` file of the model to be loaded.\n",
    "model_path = 'ssd7_Category_epoch-29_loss-2.9222_val_loss-2.8211.h5'\n",
    "\n",
    "# We need to create an SSDLoss object in order to pass that to the model loader.\n",
    "ssd_loss = SSDLoss(neg_pos_ratio=3, alpha=1.0)\n",
    "\n",
    "K.clear_session() # Clear previous models from memory.\n",
    "\n",
    "model = load_model(model_path, custom_objects={'AnchorBoxes': AnchorBoxes,\n",
    "                                               'compute_loss': ssd_loss.compute_loss})"
   ]
  },
  {
   "cell_type": "markdown",
   "metadata": {},
   "source": [
    "## 3. Set up the data generators for the training\n",
    "\n",
    "The code cells below set up data generators for the training and validation datasets to train the model. You will have to set the file paths to your dataset. Depending on the annotations format of your dataset, you might also have to switch from the CSV parser to the XML or JSON parser, or you might have to write a new parser method in the `DataGenerator` class that can handle whatever format your annotations are in. The [README](https://github.com/pierluigiferrari/ssd_keras/blob/master/README.md) of this repository provides a summary of the design of the `DataGenerator`, which should help you in case you need to write a new parser or adapt one of the existing parsers to your needs.\n",
    "\n",
    "Note that the generator provides two options to speed up the training. By default, it loads the individual images for a batch from disk. This has two disadvantages. First, for compressed image formats like JPG, this is a huge computational waste, because every image needs to be decompressed again and again every time it is being loaded. Second, the images on disk are likely not stored in a contiguous block of memory, which may also slow down the loading process. The first option that `DataGenerator` provides to deal with this is to load the entire dataset into memory, which reduces the access time for any image to a negligible amount, but of course this is only an option if you have enough free memory to hold the whole dataset. As a second option, `DataGenerator` provides the possibility to convert the dataset into a single HDF5 file. This HDF5 file stores the images as uncompressed arrays in a contiguous block of memory, which dramatically speeds up the loading time. It's not as good as having the images in memory, but it's a lot better than the default option of loading them from their compressed JPG state every time they are needed. Of course such an HDF5 dataset may require significantly more disk space than the compressed images. You can later load these HDF5 datasets directly in the constructor.\n",
    "\n",
    "Set the batch size to to your preference and to what your GPU memory allows, it's not the most important hyperparameter. The Caffe implementation uses a batch size of 32, but smaller batch sizes work fine, too.\n",
    "\n",
    "The `DataGenerator` itself is fairly generic. I doesn't contain any data augmentation or bounding box encoding logic. Instead, you pass a list of image transformations and an encoder for the bounding boxes in the `transformations` and `label_encoder` arguments of the data generator's `generate()` method, and the data generator will then apply those given transformations and the encoding to the data. Everything here is preset already, but if you'd like to learn more about the data generator and its data augmentation capabilities, take a look at the detailed tutorial in [this](https://github.com/pierluigiferrari/data_generator_object_detection_2d) repository.\n",
    "\n",
    "The image processing chain defined further down in the object named `data_augmentation_chain` is just one possibility of what a data augmentation pipeline for unform-size images could look like. Feel free to put together other image processing chains, you can use the `DataAugmentationConstantInputSize` class as a template. Or you could use the original SSD data augmentation pipeline by instantiting an `SSDDataAugmentation` object and passing that to the generator instead. This procedure is not exactly efficient, but it evidently produces good results on multiple datasets.\n",
    "\n",
    "An `SSDInputEncoder` object, `ssd_input_encoder`, is passed to both the training and validation generators. As explained above, it matches the ground truth labels to the model's anchor boxes and encodes the box coordinates into the format that the model needs."
   ]
  },
  {
   "cell_type": "markdown",
   "metadata": {},
   "source": [
    "### Note:\n",
    "\n",
    "The example setup below was used to train SSD7 on two road traffic datasets released by [Udacity](https://github.com/udacity/self-driving-car/tree/master/annotations) with around 20,000 images in total and 5 object classes (car, truck, pedestrian, bicyclist, traffic light), although the vast majority of the objects are cars. The original datasets have a constant image size of 1200x1920 RGB. I consolidated the two datasets, removed a few bad samples (although there are probably many more), and resized the images to 300x480 RGB, i.e. to one sixteenth of the original image size. In case you'd like to train a model on the same dataset, you can download the consolidated and resized dataset I used [here](https://drive.google.com/open?id=1tfBFavijh4UTG4cGqIKwhcklLXUDuY0D) (about 900 MB)."
   ]
  },
  {
   "cell_type": "code",
   "execution_count": 4,
   "metadata": {},
   "outputs": [
    {
     "name": "stdout",
     "output_type": "stream",
     "text": [
      "Processing image set 'train2.txt': 100%|████████████████████████████████████████| 14990/14990 [00:23<00:00, 628.64it/s]\n",
      "Processing image set 'val2.txt': 100%|████████████████████████████████████████████| 4000/4000 [00:07<00:00, 554.42it/s]\n"
     ]
    }
   ],
   "source": [
    "train_dataset = DataGenerator()\n",
    "val_dataset=DataGenerator()\n",
    "# TODO: Set the paths to the dataset here.\n",
    "Pascal_VOC_dataset_images_dir = 'datasets/ICUB/ims2'\n",
    "Pascal_VOC_dataset_annotations_dir = 'datasets/ICUB/ans2'\n",
    "Pascal_VOC_dataset_image_set_filename = 'datasets/ICUB/train2.txt'\n",
    "Pascal_VOC_dataset_image_set_filename_val = 'datasets/ICUB/val2.txt'\n",
    "# The XML parser needs to now what object class names to look for and in which order to map them to integers.\n",
    "classes = ['background','book','cellphone','mouse','ringbinder']\n",
    "\n",
    "train_dataset.parse_xml(images_dirs=[Pascal_VOC_dataset_images_dir],\n",
    "                  image_set_filenames=[Pascal_VOC_dataset_image_set_filename],\n",
    "                  annotations_dirs=[Pascal_VOC_dataset_annotations_dir],\n",
    "                  classes=classes,\n",
    "                  include_classes='all',\n",
    "                  exclude_truncated=False,\n",
    "                  exclude_difficult=False,\n",
    "                  ret=False)\n",
    "val_dataset.parse_xml(images_dirs=[Pascal_VOC_dataset_images_dir],\n",
    "                  image_set_filenames=[Pascal_VOC_dataset_image_set_filename_val],\n",
    "                  annotations_dirs=[Pascal_VOC_dataset_annotations_dir],\n",
    "                  classes=classes,\n",
    "                  include_classes='all',\n",
    "                  exclude_truncated=False,\n",
    "                  exclude_difficult=False,\n",
    "                  ret=False)\n",
    "#train_dataset.create_hdf5_dataset(file_path='train_dataset_icub.h5',\n",
    "#                                  resize=False,\n",
    "#                                  variable_image_size=True,\n",
    " #                                 verbose=True)\n",
    "#train_dataset.create_hdf5_dataset(file_path='val_dataset_icub.h5',\n",
    "#                                  resize=False,\n",
    "#                                  variable_image_size=True,\n",
    "#                                  verbose=True)\n",
    "train_dataset_size = train_dataset.get_dataset_size()\n",
    "val_dataset_size   = val_dataset.get_dataset_size()"
   ]
  },
  {
   "cell_type": "code",
   "execution_count": 5,
   "metadata": {},
   "outputs": [],
   "source": [
    "# 3: Set the batch size.\n",
    "#train_dataset = DataGenerator(load_images_into_memory=False, hdf5_dataset_path='train_dataset_icub.h5')\n",
    "#val_dataset = DataGenerator(load_images_into_memory=False, hdf5_dataset_path='val_dataset_icub.h5')\n",
    "#train_dataset_size = train_dataset.get_dataset_size()\n",
    "#val_dataset_size   = val_dataset.get_dataset_size()\n",
    "batch_size = 2\n",
    "\n",
    "# 4: Define the image processing chain.\n",
    "\n",
    "data_augmentation_chain = DataAugmentationConstantInputSize(random_brightness=(-48, 48, 0.5),\n",
    "                                                            random_contrast=(0.5, 1.8, 0.5),\n",
    "                                                            random_saturation=(0.5, 1.8, 0.5),\n",
    "                                                            random_hue=(18, 0.5),\n",
    "                                                            random_flip=0.5,\n",
    "                                                            random_translate=((0.03,0.5), (0.03,0.5), 0.5),\n",
    "                                                            random_scale=(0.5, 2.0, 0.5),\n",
    "                                                            n_trials_max=3,\n",
    "                                                            clip_boxes=True,\n",
    "                                                            overlap_criterion='area',\n",
    "                                                            bounds_box_filter=(0.3, 1.0),\n",
    "                                                            bounds_validator=(0.5, 1.0),\n",
    "                                                            n_boxes_min=1,\n",
    "                                                            background=(0,0,0))\n",
    "\n",
    "# 5: Instantiate an encoder that can encode ground truth labels into the format needed by the SSD loss function.\n",
    "\n",
    "# The encoder constructor needs the spatial dimensions of the model's predictor layers to create the anchor boxes.\n",
    "predictor_sizes = [model.get_layer('classes4').output_shape[1:3],\n",
    "                   model.get_layer('classes5').output_shape[1:3],\n",
    "                   model.get_layer('classes6').output_shape[1:3],\n",
    "                   model.get_layer('classes7').output_shape[1:3]]\n",
    "\n",
    "ssd_input_encoder = SSDInputEncoder(img_height=img_height,\n",
    "                                    img_width=img_width,\n",
    "                                    n_classes=n_classes,\n",
    "                                    predictor_sizes=predictor_sizes,\n",
    "                                    scales=scales,\n",
    "                                    aspect_ratios_global=aspect_ratios,\n",
    "                                    two_boxes_for_ar1=two_boxes_for_ar1,\n",
    "                                    steps=steps,\n",
    "                                    offsets=offsets,\n",
    "                                    clip_boxes=clip_boxes,\n",
    "                                    variances=variances,\n",
    "                                    matching_type='multi',\n",
    "                                    pos_iou_threshold=0.5,\n",
    "                                    neg_iou_limit=0.3,\n",
    "                                    normalize_coords=normalize_coords)\n",
    "\n",
    "# 6: Create the generator handles that will be passed to Keras' `fit_generator()` function.\n",
    "\n",
    "train_generator = train_dataset.generate(batch_size=batch_size,\n",
    "                                         shuffle=True,\n",
    "                                         transformations=[data_augmentation_chain],\n",
    "                                         label_encoder=ssd_input_encoder,\n",
    "                                         returns={'processed_images',\n",
    "                                                  'encoded_labels'},\n",
    "                                         keep_images_without_gt=False)\n",
    "\n",
    "val_generator = val_dataset.generate(batch_size=batch_size,\n",
    "                                     shuffle=False,\n",
    "                                     transformations=[],\n",
    "                                     label_encoder=ssd_input_encoder,\n",
    "                                     returns={'processed_images',\n",
    "                                              'encoded_labels'},\n",
    "                                     keep_images_without_gt=False)"
   ]
  },
  {
   "cell_type": "markdown",
   "metadata": {},
   "source": [
    "## 4. Set the remaining training parameters and train the model\n",
    "\n",
    "We've already chosen an optimizer and a learning rate and set the batch size above, now let's set the remaining training parameters.\n",
    "\n",
    "I'll set a few Keras callbacks below, one for early stopping, one to reduce the learning rate if the training stagnates, one to save the best models during the training, and one to continuously stream the training history to a CSV file after every epoch. Logging to a CSV file makes sense, because if we didn't do that, in case the training terminates with an exception at some point or if the kernel of this Jupyter notebook dies for some reason or anything like that happens, we would lose the entire history for the trained epochs. Feel free to add more callbacks if you want TensorBoard summaries or whatever."
   ]
  },
  {
   "cell_type": "code",
   "execution_count": 6,
   "metadata": {},
   "outputs": [
    {
     "name": "stderr",
     "output_type": "stream",
     "text": [
      "C:\\Users\\issa\\AppData\\Local\\conda\\conda\\envs\\tensorflow_gpu\\lib\\site-packages\\keras\\callbacks.py:928: UserWarning: `epsilon` argument is deprecated and will be removed, use `min_delta` insted.\n",
      "  warnings.warn('`epsilon` argument is deprecated and '\n"
     ]
    }
   ],
   "source": [
    "# Define model callbacks.\n",
    "\n",
    "# TODO: Set the filepath under which you want to save the weights.\n",
    "model_checkpoint = ModelCheckpoint(filepath='ssd7_Category_epoch-{epoch:02d}_loss-{loss:.4f}_val_loss-{val_loss:.4f}.h5',\n",
    "                                   monitor='val_loss',\n",
    "                                   verbose=1,\n",
    "                                   save_best_only=True,\n",
    "                                   save_weights_only=False,\n",
    "                                   mode='auto',\n",
    "                                   period=1)\n",
    "\n",
    "csv_logger = CSVLogger(filename='ssd7_training_log.csv',\n",
    "                       separator=',',\n",
    "                       append=True)\n",
    "\n",
    "early_stopping = EarlyStopping(monitor='val_loss',\n",
    "                               min_delta=0.0,\n",
    "                               patience=10,\n",
    "                               verbose=1)\n",
    "\n",
    "reduce_learning_rate = ReduceLROnPlateau(monitor='val_loss',\n",
    "                                         factor=0.2,\n",
    "                                         patience=8,\n",
    "                                         verbose=1,\n",
    "                                         epsilon=0.001,\n",
    "                                         cooldown=0,\n",
    "                                         min_lr=0.00001)\n",
    "\n",
    "callbacks = [model_checkpoint,\n",
    "             csv_logger,\n",
    "             early_stopping,\n",
    "             reduce_learning_rate]"
   ]
  },
  {
   "cell_type": "markdown",
   "metadata": {},
   "source": [
    "I'll set one epoch to consist of 1,000 training steps I'll arbitrarily set the number of epochs to 20 here. This does not imply that 20,000 training steps is the right number. Depending on the model, the dataset, the learning rate, etc. you might have to train much longer to achieve convergence, or maybe less.\n",
    "\n",
    "Instead of trying to train a model to convergence in one go, you might want to train only for a few epochs at a time.\n",
    "\n",
    "In order to only run a partial training and resume smoothly later on, there are a few things you should note:\n",
    "1. Always load the full model if you can, rather than building a new model and loading previously saved weights into it. Optimizers like SGD or Adam keep running averages of past gradient moments internally. If you always save and load full models when resuming a training, then the state of the optimizer is maintained and the training picks up exactly where it left off. If you build a new model and load weights into it, the optimizer is being initialized from scratch, which, especially in the case of Adam, leads to small but unnecessary setbacks every time you resume the training with previously saved weights.\n",
    "2. You should tell `fit_generator()` which epoch to start from, otherwise it will start with epoch 0 every time you resume the training. Set `initial_epoch` to be the next epoch of your training. Note that this parameter is zero-based, i.e. the first epoch is epoch 0. If you had trained for 10 epochs previously and now you'd want to resume the training from there, you'd set `initial_epoch = 10` (since epoch 10 is the eleventh epoch). Furthermore, set `final_epoch` to the last epoch you want to run. To stick with the previous example, if you had trained for 10 epochs previously and now you'd want to train for another 10 epochs, you'd set `initial_epoch = 10` and `final_epoch = 20`.\n",
    "3. Callbacks like `ModelCheckpoint` or `ReduceLROnPlateau` are stateful, so you might want ot save their state somehow if you want to pick up a training exactly where you left off."
   ]
  },
  {
   "cell_type": "code",
   "execution_count": 7,
   "metadata": {
    "scrolled": false
   },
   "outputs": [
    {
     "name": "stdout",
     "output_type": "stream",
     "text": [
      "Epoch 29/30\n"
     ]
    },
    {
     "name": "stdout",
     "output_type": "stream",
     "text": [
      " 313/1000 [========>.....................] - ETA: 53:08 - loss: 2.25 - ETA: 28:26 - loss: 3.00 - ETA: 20:12 - loss: 2.63 - ETA: 16:05 - loss: 2.92 - ETA: 13:38 - loss: 2.80 - ETA: 11:59 - loss: 3.16 - ETA: 10:48 - loss: 3.03 - ETA: 9:55 - loss: 2.8916 - ETA: 9:13 - loss: 3.113 - ETA: 8:40 - loss: 2.955 - ETA: 8:13 - loss: 3.072 - ETA: 7:51 - loss: 2.944 - ETA: 7:32 - loss: 3.014 - ETA: 8:05 - loss: 2.974 - ETA: 7:47 - loss: 2.881 - ETA: 7:31 - loss: 2.921 - ETA: 7:18 - loss: 2.907 - ETA: 7:05 - loss: 2.828 - ETA: 6:54 - loss: 2.993 - ETA: 6:45 - loss: 2.976 - ETA: 6:36 - loss: 2.927 - ETA: 6:28 - loss: 2.893 - ETA: 6:21 - loss: 2.920 - ETA: 6:14 - loss: 2.966 - ETA: 6:08 - loss: 2.953 - ETA: 6:02 - loss: 2.914 - ETA: 5:56 - loss: 2.892 - ETA: 5:51 - loss: 2.918 - ETA: 5:46 - loss: 2.914 - ETA: 5:42 - loss: 2.918 - ETA: 5:38 - loss: 2.893 - ETA: 5:34 - loss: 2.958 - ETA: 5:30 - loss: 2.914 - ETA: 5:27 - loss: 2.943 - ETA: 5:23 - loss: 2.943 - ETA: 5:20 - loss: 2.970 - ETA: 5:17 - loss: 3.005 - ETA: 5:15 - loss: 3.037 - ETA: 5:12 - loss: 3.005 - ETA: 5:09 - loss: 3.013 - ETA: 5:07 - loss: 3.021 - ETA: 5:05 - loss: 3.018 - ETA: 5:02 - loss: 3.036 - ETA: 5:00 - loss: 3.065 - ETA: 4:58 - loss: 3.072 - ETA: 4:56 - loss: 3.091 - ETA: 4:54 - loss: 3.101 - ETA: 4:52 - loss: 3.118 - ETA: 4:50 - loss: 3.111 - ETA: 4:49 - loss: 3.091 - ETA: 4:47 - loss: 3.091 - ETA: 4:45 - loss: 3.085 - ETA: 4:44 - loss: 3.087 - ETA: 4:42 - loss: 3.065 - ETA: 4:41 - loss: 3.080 - ETA: 4:38 - loss: 3.086 - ETA: 4:36 - loss: 3.074 - ETA: 4:35 - loss: 3.066 - ETA: 4:34 - loss: 3.063 - ETA: 4:33 - loss: 3.065 - ETA: 4:31 - loss: 3.051 - ETA: 4:30 - loss: 3.036 - ETA: 4:29 - loss: 3.023 - ETA: 4:28 - loss: 3.013 - ETA: 4:27 - loss: 2.997 - ETA: 4:26 - loss: 3.012 - ETA: 4:25 - loss: 3.020 - ETA: 4:24 - loss: 3.014 - ETA: 4:23 - loss: 3.028 - ETA: 4:22 - loss: 3.044 - ETA: 4:21 - loss: 3.043 - ETA: 4:20 - loss: 3.049 - ETA: 4:19 - loss: 3.079 - ETA: 4:18 - loss: 3.081 - ETA: 4:17 - loss: 3.067 - ETA: 4:16 - loss: 3.065 - ETA: 4:16 - loss: 3.049 - ETA: 4:15 - loss: 3.055 - ETA: 4:14 - loss: 3.044 - ETA: 4:14 - loss: 3.028 - ETA: 4:13 - loss: 3.017 - ETA: 4:12 - loss: 2.995 - ETA: 4:12 - loss: 2.988 - ETA: 4:11 - loss: 2.978 - ETA: 4:11 - loss: 2.976 - ETA: 4:10 - loss: 2.982 - ETA: 4:10 - loss: 2.986 - ETA: 4:09 - loss: 2.971 - ETA: 4:09 - loss: 2.970 - ETA: 4:09 - loss: 2.960 - ETA: 4:08 - loss: 2.969 - ETA: 4:08 - loss: 2.961 - ETA: 4:07 - loss: 2.947 - ETA: 4:07 - loss: 2.959 - ETA: 4:07 - loss: 2.971 - ETA: 4:07 - loss: 2.971 - ETA: 4:07 - loss: 2.971 - ETA: 4:06 - loss: 2.959 - ETA: 4:06 - loss: 2.941 - ETA: 4:07 - loss: 2.947 - ETA: 4:06 - loss: 2.930 - ETA: 4:06 - loss: 2.932 - ETA: 4:06 - loss: 2.929 - ETA: 4:06 - loss: 2.925 - ETA: 4:05 - loss: 2.930 - ETA: 4:05 - loss: 2.937 - ETA: 4:05 - loss: 2.932 - ETA: 4:05 - loss: 2.935 - ETA: 4:04 - loss: 2.958 - ETA: 4:04 - loss: 2.955 - ETA: 4:04 - loss: 2.962 - ETA: 4:04 - loss: 2.974 - ETA: 4:03 - loss: 2.969 - ETA: 4:03 - loss: 2.957 - ETA: 4:02 - loss: 2.946 - ETA: 4:03 - loss: 2.951 - ETA: 4:02 - loss: 2.950 - ETA: 4:02 - loss: 2.962 - ETA: 4:02 - loss: 2.959 - ETA: 4:02 - loss: 2.944 - ETA: 4:02 - loss: 2.933 - ETA: 4:01 - loss: 2.946 - ETA: 4:01 - loss: 2.943 - ETA: 4:01 - loss: 2.946 - ETA: 4:01 - loss: 2.959 - ETA: 4:00 - loss: 2.948 - ETA: 4:00 - loss: 2.966 - ETA: 3:59 - loss: 2.961 - ETA: 3:59 - loss: 2.960 - ETA: 3:58 - loss: 2.956 - ETA: 3:58 - loss: 2.973 - ETA: 3:58 - loss: 2.975 - ETA: 3:57 - loss: 2.975 - ETA: 3:57 - loss: 2.968 - ETA: 3:57 - loss: 2.974 - ETA: 3:57 - loss: 2.977 - ETA: 3:56 - loss: 2.974 - ETA: 3:56 - loss: 2.962 - ETA: 3:56 - loss: 2.950 - ETA: 3:55 - loss: 2.945 - ETA: 3:55 - loss: 2.939 - ETA: 3:55 - loss: 2.943 - ETA: 3:55 - loss: 2.941 - ETA: 3:54 - loss: 2.948 - ETA: 3:54 - loss: 2.938 - ETA: 3:54 - loss: 2.935 - ETA: 3:53 - loss: 2.943 - ETA: 3:53 - loss: 2.946 - ETA: 3:52 - loss: 2.945 - ETA: 3:52 - loss: 2.944 - ETA: 3:52 - loss: 2.940 - ETA: 3:51 - loss: 2.943 - ETA: 3:51 - loss: 2.951 - ETA: 3:50 - loss: 2.954 - ETA: 3:50 - loss: 2.952 - ETA: 3:50 - loss: 2.956 - ETA: 3:49 - loss: 2.959 - ETA: 3:49 - loss: 2.969 - ETA: 3:49 - loss: 2.969 - ETA: 3:48 - loss: 2.970 - ETA: 3:48 - loss: 2.978 - ETA: 3:47 - loss: 2.969 - ETA: 3:47 - loss: 2.968 - ETA: 3:46 - loss: 2.975 - ETA: 3:46 - loss: 2.977 - ETA: 3:46 - loss: 2.975 - ETA: 3:45 - loss: 2.975 - ETA: 3:45 - loss: 2.967 - ETA: 3:44 - loss: 2.963 - ETA: 3:44 - loss: 2.956 - ETA: 3:44 - loss: 2.951 - ETA: 3:43 - loss: 2.941 - ETA: 3:43 - loss: 2.942 - ETA: 3:43 - loss: 2.948 - ETA: 3:42 - loss: 2.952 - ETA: 3:42 - loss: 2.945 - ETA: 3:41 - loss: 2.943 - ETA: 3:41 - loss: 2.935 - ETA: 3:41 - loss: 2.936 - ETA: 3:40 - loss: 2.938 - ETA: 3:40 - loss: 2.930 - ETA: 3:40 - loss: 2.934 - ETA: 3:39 - loss: 2.937 - ETA: 3:39 - loss: 2.931 - ETA: 3:39 - loss: 2.948 - ETA: 3:39 - loss: 2.940 - ETA: 3:39 - loss: 2.943 - ETA: 3:38 - loss: 2.934 - ETA: 3:38 - loss: 2.930 - ETA: 3:37 - loss: 2.926 - ETA: 3:37 - loss: 2.945 - ETA: 3:36 - loss: 2.952 - ETA: 3:36 - loss: 2.958 - ETA: 3:36 - loss: 2.957 - ETA: 3:36 - loss: 2.955 - ETA: 3:35 - loss: 2.955 - ETA: 3:35 - loss: 2.962 - ETA: 3:35 - loss: 2.965 - ETA: 3:35 - loss: 2.959 - ETA: 3:34 - loss: 2.959 - ETA: 3:34 - loss: 2.959 - ETA: 3:34 - loss: 2.959 - ETA: 3:33 - loss: 2.961 - ETA: 3:33 - loss: 2.968 - ETA: 3:33 - loss: 2.975 - ETA: 3:33 - loss: 2.977 - ETA: 3:32 - loss: 2.976 - ETA: 3:32 - loss: 2.973 - ETA: 3:32 - loss: 2.978 - ETA: 3:31 - loss: 2.970 - ETA: 3:31 - loss: 2.984 - ETA: 3:31 - loss: 2.992 - ETA: 3:30 - loss: 2.990 - ETA: 3:30 - loss: 2.991 - ETA: 3:30 - loss: 2.998 - ETA: 3:30 - loss: 2.997 - ETA: 3:30 - loss: 2.994 - ETA: 3:29 - loss: 2.991 - ETA: 3:29 - loss: 2.998 - ETA: 3:29 - loss: 3.000 - ETA: 3:28 - loss: 2.995 - ETA: 3:28 - loss: 3.002 - ETA: 3:28 - loss: 3.001 - ETA: 3:28 - loss: 3.007 - ETA: 3:28 - loss: 3.009 - ETA: 3:27 - loss: 3.005 - ETA: 3:27 - loss: 3.007 - ETA: 3:27 - loss: 3.001 - ETA: 3:27 - loss: 3.005 - ETA: 3:26 - loss: 3.008 - ETA: 3:26 - loss: 3.005 - ETA: 3:26 - loss: 3.012 - ETA: 3:25 - loss: 3.008 - ETA: 3:25 - loss: 3.003 - ETA: 3:25 - loss: 3.008 - ETA: 3:25 - loss: 3.009 - ETA: 3:24 - loss: 3.005 - ETA: 3:24 - loss: 3.005 - ETA: 3:24 - loss: 3.007 - ETA: 3:24 - loss: 3.002 - ETA: 3:23 - loss: 3.006 - ETA: 3:23 - loss: 3.003 - ETA: 3:23 - loss: 3.003 - ETA: 3:22 - loss: 2.998 - ETA: 3:22 - loss: 2.999 - ETA: 3:22 - loss: 3.006 - ETA: 3:22 - loss: 3.008 - ETA: 3:21 - loss: 3.011 - ETA: 3:21 - loss: 3.008 - ETA: 3:21 - loss: 3.002 - ETA: 3:21 - loss: 3.009 - ETA: 3:20 - loss: 3.010 - ETA: 3:20 - loss: 3.010 - ETA: 3:20 - loss: 3.007 - ETA: 3:19 - loss: 3.006 - ETA: 3:19 - loss: 3.007 - ETA: 3:19 - loss: 3.004 - ETA: 3:18 - loss: 3.000 - ETA: 3:18 - loss: 3.000 - ETA: 3:18 - loss: 3.008 - ETA: 3:18 - loss: 3.007 - ETA: 3:17 - loss: 3.012 - ETA: 3:17 - loss: 3.009 - ETA: 3:17 - loss: 3.012 - ETA: 3:16 - loss: 3.014 - ETA: 3:16 - loss: 3.012 - ETA: 3:16 - loss: 3.014 - ETA: 3:16 - loss: 3.013 - ETA: 3:15 - loss: 3.010 - ETA: 3:15 - loss: 3.011 - ETA: 3:15 - loss: 3.014 - ETA: 3:15 - loss: 3.016 - ETA: 3:14 - loss: 3.015 - ETA: 3:14 - loss: 3.013 - ETA: 3:14 - loss: 3.012 - ETA: 3:14 - loss: 3.012 - ETA: 3:13 - loss: 3.008 - ETA: 3:13 - loss: 3.004 - ETA: 3:13 - loss: 3.001 - ETA: 3:12 - loss: 3.001 - ETA: 3:12 - loss: 3.002 - ETA: 3:12 - loss: 3.001 - ETA: 3:12 - loss: 2.998 - ETA: 3:12 - loss: 2.995 - ETA: 3:11 - loss: 2.997 - ETA: 3:11 - loss: 2.992 - ETA: 3:11 - loss: 2.988 - ETA: 3:10 - loss: 2.986 - ETA: 3:10 - loss: 2.986 - ETA: 3:10 - loss: 2.984 - ETA: 3:09 - loss: 2.978 - ETA: 3:09 - loss: 2.974 - ETA: 3:09 - loss: 2.972 - ETA: 3:09 - loss: 2.968 - ETA: 3:08 - loss: 2.969 - ETA: 3:08 - loss: 2.968 - ETA: 3:08 - loss: 2.966 - ETA: 3:08 - loss: 2.961 - ETA: 3:07 - loss: 2.968 - ETA: 3:07 - loss: 2.968 - ETA: 3:07 - loss: 2.967 - ETA: 3:07 - loss: 2.969 - ETA: 3:07 - loss: 2.976 - ETA: 3:06 - loss: 2.978 - ETA: 3:06 - loss: 2.979 - ETA: 3:06 - loss: 2.980 - ETA: 3:05 - loss: 2.977 - ETA: 3:05 - loss: 2.978 - ETA: 3:05 - loss: 2.977 - ETA: 3:04 - loss: 2.976 - ETA: 3:04 - loss: 2.978 - ETA: 3:04 - loss: 2.982 - ETA: 3:04 - loss: 2.978 627/1000 [=================>............] - ETA: 3:03 - loss: 2.975 - ETA: 3:03 - loss: 2.979 - ETA: 3:03 - loss: 2.977 - ETA: 3:02 - loss: 2.975 - ETA: 3:02 - loss: 2.971 - ETA: 3:02 - loss: 2.972 - ETA: 3:02 - loss: 2.968 - ETA: 3:01 - loss: 2.964 - ETA: 3:01 - loss: 2.963 - ETA: 3:01 - loss: 2.966 - ETA: 3:01 - loss: 2.969 - ETA: 3:00 - loss: 2.969 - ETA: 3:00 - loss: 2.965 - ETA: 3:00 - loss: 2.963 - ETA: 2:59 - loss: 2.960 - ETA: 2:59 - loss: 2.963 - ETA: 2:59 - loss: 2.962 - ETA: 2:59 - loss: 2.976 - ETA: 2:58 - loss: 2.976 - ETA: 2:58 - loss: 2.973 - ETA: 2:58 - loss: 2.977 - ETA: 2:57 - loss: 2.976 - ETA: 2:57 - loss: 2.976 - ETA: 2:57 - loss: 2.973 - ETA: 2:57 - loss: 2.972 - ETA: 2:56 - loss: 2.978 - ETA: 2:56 - loss: 2.976 - ETA: 2:56 - loss: 2.977 - ETA: 2:55 - loss: 2.973 - ETA: 2:55 - loss: 2.974 - ETA: 2:55 - loss: 2.975 - ETA: 2:55 - loss: 2.979 - ETA: 2:54 - loss: 2.978 - ETA: 2:54 - loss: 2.976 - ETA: 2:54 - loss: 2.977 - ETA: 2:54 - loss: 2.980 - ETA: 2:54 - loss: 2.981 - ETA: 2:53 - loss: 2.979 - ETA: 2:53 - loss: 2.978 - ETA: 2:53 - loss: 2.976 - ETA: 2:52 - loss: 2.976 - ETA: 2:52 - loss: 2.973 - ETA: 2:52 - loss: 2.976 - ETA: 2:52 - loss: 2.975 - ETA: 2:51 - loss: 2.974 - ETA: 2:51 - loss: 2.978 - ETA: 2:51 - loss: 2.977 - ETA: 2:51 - loss: 2.978 - ETA: 2:50 - loss: 2.977 - ETA: 2:50 - loss: 2.980 - ETA: 2:50 - loss: 2.975 - ETA: 2:49 - loss: 2.977 - ETA: 2:49 - loss: 2.974 - ETA: 2:49 - loss: 2.972 - ETA: 2:49 - loss: 2.972 - ETA: 2:48 - loss: 2.972 - ETA: 2:48 - loss: 2.972 - ETA: 2:48 - loss: 2.968 - ETA: 2:47 - loss: 2.965 - ETA: 2:47 - loss: 2.962 - ETA: 2:47 - loss: 2.959 - ETA: 2:47 - loss: 2.955 - ETA: 2:46 - loss: 2.954 - ETA: 2:46 - loss: 2.953 - ETA: 2:46 - loss: 2.952 - ETA: 2:45 - loss: 2.953 - ETA: 2:45 - loss: 2.957 - ETA: 2:45 - loss: 2.954 - ETA: 2:44 - loss: 2.957 - ETA: 2:44 - loss: 2.960 - ETA: 2:44 - loss: 2.957 - ETA: 2:44 - loss: 2.958 - ETA: 2:44 - loss: 2.957 - ETA: 2:43 - loss: 2.955 - ETA: 2:43 - loss: 2.953 - ETA: 2:43 - loss: 2.953 - ETA: 2:42 - loss: 2.952 - ETA: 2:42 - loss: 2.952 - ETA: 2:42 - loss: 2.947 - ETA: 2:42 - loss: 2.946 - ETA: 2:41 - loss: 2.948 - ETA: 2:41 - loss: 2.947 - ETA: 2:41 - loss: 2.948 - ETA: 2:40 - loss: 2.947 - ETA: 2:40 - loss: 2.945 - ETA: 2:40 - loss: 2.941 - ETA: 2:39 - loss: 2.943 - ETA: 2:39 - loss: 2.942 - ETA: 2:39 - loss: 2.946 - ETA: 2:39 - loss: 2.943 - ETA: 2:38 - loss: 2.941 - ETA: 2:38 - loss: 2.942 - ETA: 2:38 - loss: 2.947 - ETA: 2:38 - loss: 2.947 - ETA: 2:37 - loss: 2.948 - ETA: 2:37 - loss: 2.948 - ETA: 2:37 - loss: 2.947 - ETA: 2:37 - loss: 2.946 - ETA: 2:36 - loss: 2.943 - ETA: 2:36 - loss: 2.943 - ETA: 2:36 - loss: 2.942 - ETA: 2:35 - loss: 2.945 - ETA: 2:35 - loss: 2.945 - ETA: 2:35 - loss: 2.944 - ETA: 2:35 - loss: 2.947 - ETA: 2:34 - loss: 2.943 - ETA: 2:34 - loss: 2.940 - ETA: 2:34 - loss: 2.939 - ETA: 2:34 - loss: 2.937 - ETA: 2:33 - loss: 2.933 - ETA: 2:33 - loss: 2.935 - ETA: 2:33 - loss: 2.935 - ETA: 2:32 - loss: 2.935 - ETA: 2:32 - loss: 2.935 - ETA: 2:32 - loss: 2.940 - ETA: 2:32 - loss: 2.936 - ETA: 2:31 - loss: 2.940 - ETA: 2:31 - loss: 2.939 - ETA: 2:31 - loss: 2.938 - ETA: 2:31 - loss: 2.934 - ETA: 2:30 - loss: 2.935 - ETA: 2:30 - loss: 2.940 - ETA: 2:30 - loss: 2.936 - ETA: 2:30 - loss: 2.935 - ETA: 2:29 - loss: 2.937 - ETA: 2:29 - loss: 2.938 - ETA: 2:29 - loss: 2.938 - ETA: 2:28 - loss: 2.944 - ETA: 2:28 - loss: 2.943 - ETA: 2:28 - loss: 2.941 - ETA: 2:28 - loss: 2.941 - ETA: 2:27 - loss: 2.943 - ETA: 2:27 - loss: 2.939 - ETA: 2:27 - loss: 2.939 - ETA: 2:27 - loss: 2.940 - ETA: 2:26 - loss: 2.937 - ETA: 2:26 - loss: 2.935 - ETA: 2:26 - loss: 2.933 - ETA: 2:25 - loss: 2.939 - ETA: 2:25 - loss: 2.937 - ETA: 2:25 - loss: 2.934 - ETA: 2:25 - loss: 2.938 - ETA: 2:25 - loss: 2.938 - ETA: 2:24 - loss: 2.935 - ETA: 2:24 - loss: 2.937 - ETA: 2:24 - loss: 2.939 - ETA: 2:24 - loss: 2.941 - ETA: 2:23 - loss: 2.941 - ETA: 2:23 - loss: 2.940 - ETA: 2:23 - loss: 2.940 - ETA: 2:23 - loss: 2.941 - ETA: 2:22 - loss: 2.941 - ETA: 2:22 - loss: 2.940 - ETA: 2:22 - loss: 2.940 - ETA: 2:21 - loss: 2.941 - ETA: 2:21 - loss: 2.942 - ETA: 2:21 - loss: 2.945 - ETA: 2:21 - loss: 2.944 - ETA: 2:21 - loss: 2.943 - ETA: 2:20 - loss: 2.943 - ETA: 2:20 - loss: 2.945 - ETA: 2:20 - loss: 2.951 - ETA: 2:20 - loss: 2.949 - ETA: 2:19 - loss: 2.948 - ETA: 2:19 - loss: 2.949 - ETA: 2:19 - loss: 2.950 - ETA: 2:18 - loss: 2.952 - ETA: 2:18 - loss: 2.954 - ETA: 2:18 - loss: 2.955 - ETA: 2:18 - loss: 2.958 - ETA: 2:17 - loss: 2.959 - ETA: 2:17 - loss: 2.958 - ETA: 2:17 - loss: 2.957 - ETA: 2:17 - loss: 2.965 - ETA: 2:16 - loss: 2.966 - ETA: 2:16 - loss: 2.965 - ETA: 2:16 - loss: 2.962 - ETA: 2:16 - loss: 2.965 - ETA: 2:15 - loss: 2.966 - ETA: 2:15 - loss: 2.966 - ETA: 2:15 - loss: 2.965 - ETA: 2:15 - loss: 2.964 - ETA: 2:14 - loss: 2.962 - ETA: 2:14 - loss: 2.960 - ETA: 2:14 - loss: 2.963 - ETA: 2:14 - loss: 2.965 - ETA: 2:13 - loss: 2.961 - ETA: 2:13 - loss: 2.961 - ETA: 2:13 - loss: 2.960 - ETA: 2:13 - loss: 2.961 - ETA: 2:12 - loss: 2.961 - ETA: 2:12 - loss: 2.959 - ETA: 2:12 - loss: 2.959 - ETA: 2:11 - loss: 2.963 - ETA: 2:11 - loss: 2.968 - ETA: 2:11 - loss: 2.967 - ETA: 2:11 - loss: 2.967 - ETA: 2:10 - loss: 2.966 - ETA: 2:10 - loss: 2.966 - ETA: 2:10 - loss: 2.968 - ETA: 2:10 - loss: 2.970 - ETA: 2:09 - loss: 2.969 - ETA: 2:09 - loss: 2.966 - ETA: 2:09 - loss: 2.964 - ETA: 2:08 - loss: 2.963 - ETA: 2:08 - loss: 2.963 - ETA: 2:08 - loss: 2.962 - ETA: 2:08 - loss: 2.961 - ETA: 2:07 - loss: 2.962 - ETA: 2:07 - loss: 2.965 - ETA: 2:07 - loss: 2.964 - ETA: 2:07 - loss: 2.965 - ETA: 2:06 - loss: 2.964 - ETA: 2:06 - loss: 2.962 - ETA: 2:06 - loss: 2.962 - ETA: 2:06 - loss: 2.958 - ETA: 2:05 - loss: 2.961 - ETA: 2:05 - loss: 2.958 - ETA: 2:05 - loss: 2.960 - ETA: 2:05 - loss: 2.960 - ETA: 2:04 - loss: 2.960 - ETA: 2:04 - loss: 2.959 - ETA: 2:04 - loss: 2.961 - ETA: 2:03 - loss: 2.959 - ETA: 2:03 - loss: 2.960 - ETA: 2:03 - loss: 2.957 - ETA: 2:03 - loss: 2.960 - ETA: 2:02 - loss: 2.964 - ETA: 2:02 - loss: 2.964 - ETA: 2:02 - loss: 2.964 - ETA: 2:01 - loss: 2.963 - ETA: 2:01 - loss: 2.962 - ETA: 2:01 - loss: 2.963 - ETA: 2:01 - loss: 2.963 - ETA: 2:00 - loss: 2.963 - ETA: 2:00 - loss: 2.962 - ETA: 2:00 - loss: 2.960 - ETA: 2:00 - loss: 2.958 - ETA: 1:59 - loss: 2.957 - ETA: 1:59 - loss: 2.958 - ETA: 1:59 - loss: 2.959 - ETA: 1:59 - loss: 2.959 - ETA: 1:58 - loss: 2.963 - ETA: 1:58 - loss: 2.961 - ETA: 1:58 - loss: 2.960 - ETA: 1:58 - loss: 2.958 - ETA: 1:57 - loss: 2.957 - ETA: 1:57 - loss: 2.956 - ETA: 1:57 - loss: 2.957 - ETA: 1:56 - loss: 2.957 - ETA: 1:56 - loss: 2.957 - ETA: 1:56 - loss: 2.958 - ETA: 1:56 - loss: 2.956 - ETA: 1:55 - loss: 2.956 - ETA: 1:55 - loss: 2.955 - ETA: 1:55 - loss: 2.953 - ETA: 1:55 - loss: 2.955 - ETA: 1:54 - loss: 2.955 - ETA: 1:54 - loss: 2.954 - ETA: 1:54 - loss: 2.951 - ETA: 1:54 - loss: 2.955 - ETA: 1:53 - loss: 2.953 - ETA: 1:53 - loss: 2.956 - ETA: 1:53 - loss: 2.955 - ETA: 1:53 - loss: 2.953 - ETA: 1:52 - loss: 2.951 - ETA: 1:52 - loss: 2.949 - ETA: 1:52 - loss: 2.950 - ETA: 1:51 - loss: 2.949 - ETA: 1:51 - loss: 2.948 - ETA: 1:51 - loss: 2.946 - ETA: 1:51 - loss: 2.947 - ETA: 1:50 - loss: 2.947 - ETA: 1:50 - loss: 2.945 - ETA: 1:50 - loss: 2.947 - ETA: 1:50 - loss: 2.946 - ETA: 1:49 - loss: 2.948 - ETA: 1:49 - loss: 2.947 - ETA: 1:49 - loss: 2.945 - ETA: 1:49 - loss: 2.945 - ETA: 1:48 - loss: 2.942 - ETA: 1:48 - loss: 2.943 - ETA: 1:48 - loss: 2.942 - ETA: 1:48 - loss: 2.940 - ETA: 1:47 - loss: 2.938 - ETA: 1:47 - loss: 2.937 - ETA: 1:47 - loss: 2.935 - ETA: 1:46 - loss: 2.934 - ETA: 1:46 - loss: 2.932 - ETA: 1:46 - loss: 2.935 - ETA: 1:46 - loss: 2.933 - ETA: 1:45 - loss: 2.934 - ETA: 1:45 - loss: 2.933 - ETA: 1:45 - loss: 2.934 - ETA: 1:44 - loss: 2.932 - ETA: 1:44 - loss: 2.930 - ETA: 1:44 - loss: 2.929 - ETA: 1:44 - loss: 2.929 - ETA: 1:43 - loss: 2.930 - ETA: 1:43 - loss: 2.929 - ETA: 1:43 - loss: 2.928 - ETA: 1:43 - loss: 2.927 - ETA: 1:42 - loss: 2.931 - ETA: 1:42 - loss: 2.935 - ETA: 1:42 - loss: 2.931 - ETA: 1:42 - loss: 2.930 - ETA: 1:41 - loss: 2.933 - ETA: 1:41 - loss: 2.933 - ETA: 1:41 - loss: 2.933 - ETA: 1:40 - loss: 2.933 - ETA: 1:40 - loss: 2.934 - ETA: 1:40 - loss: 2.932 - ETA: 1:40 - loss: 2.931 - ETA: 1:39 - loss: 2.9296"
     ]
    },
    {
     "name": "stdout",
     "output_type": "stream",
     "text": [
      " 955/1000 [===========================>..] - ETA: 1:39 - loss: 2.930 - ETA: 1:39 - loss: 2.931 - ETA: 1:39 - loss: 2.932 - ETA: 1:38 - loss: 2.931 - ETA: 1:38 - loss: 2.936 - ETA: 1:38 - loss: 2.937 - ETA: 1:38 - loss: 2.936 - ETA: 1:37 - loss: 2.938 - ETA: 1:37 - loss: 2.936 - ETA: 1:37 - loss: 2.935 - ETA: 1:36 - loss: 2.935 - ETA: 1:36 - loss: 2.940 - ETA: 1:36 - loss: 2.940 - ETA: 1:36 - loss: 2.941 - ETA: 1:35 - loss: 2.941 - ETA: 1:35 - loss: 2.941 - ETA: 1:35 - loss: 2.941 - ETA: 1:35 - loss: 2.940 - ETA: 1:34 - loss: 2.941 - ETA: 1:34 - loss: 2.940 - ETA: 1:34 - loss: 2.938 - ETA: 1:34 - loss: 2.938 - ETA: 1:33 - loss: 2.937 - ETA: 1:33 - loss: 2.939 - ETA: 1:33 - loss: 2.938 - ETA: 1:32 - loss: 2.937 - ETA: 1:32 - loss: 2.936 - ETA: 1:32 - loss: 2.936 - ETA: 1:32 - loss: 2.936 - ETA: 1:31 - loss: 2.935 - ETA: 1:31 - loss: 2.935 - ETA: 1:31 - loss: 2.933 - ETA: 1:31 - loss: 2.935 - ETA: 1:30 - loss: 2.933 - ETA: 1:30 - loss: 2.932 - ETA: 1:30 - loss: 2.931 - ETA: 1:29 - loss: 2.933 - ETA: 1:29 - loss: 2.933 - ETA: 1:29 - loss: 2.932 - ETA: 1:29 - loss: 2.933 - ETA: 1:28 - loss: 2.931 - ETA: 1:28 - loss: 2.933 - ETA: 1:28 - loss: 2.932 - ETA: 1:28 - loss: 2.931 - ETA: 1:27 - loss: 2.930 - ETA: 1:27 - loss: 2.928 - ETA: 1:27 - loss: 2.928 - ETA: 1:26 - loss: 2.929 - ETA: 1:26 - loss: 2.927 - ETA: 1:26 - loss: 2.926 - ETA: 1:26 - loss: 2.925 - ETA: 1:25 - loss: 2.923 - ETA: 1:25 - loss: 2.923 - ETA: 1:25 - loss: 2.922 - ETA: 1:25 - loss: 2.923 - ETA: 1:24 - loss: 2.922 - ETA: 1:24 - loss: 2.920 - ETA: 1:24 - loss: 2.919 - ETA: 1:23 - loss: 2.921 - ETA: 1:23 - loss: 2.921 - ETA: 1:23 - loss: 2.926 - ETA: 1:23 - loss: 2.925 - ETA: 1:22 - loss: 2.928 - ETA: 1:22 - loss: 2.931 - ETA: 1:22 - loss: 2.929 - ETA: 1:22 - loss: 2.930 - ETA: 1:21 - loss: 2.930 - ETA: 1:21 - loss: 2.932 - ETA: 1:21 - loss: 2.931 - ETA: 1:21 - loss: 2.934 - ETA: 1:20 - loss: 2.933 - ETA: 1:20 - loss: 2.932 - ETA: 1:20 - loss: 2.930 - ETA: 1:19 - loss: 2.928 - ETA: 1:19 - loss: 2.928 - ETA: 1:19 - loss: 2.927 - ETA: 1:19 - loss: 2.931 - ETA: 1:18 - loss: 2.930 - ETA: 1:18 - loss: 2.930 - ETA: 1:18 - loss: 2.928 - ETA: 1:18 - loss: 2.929 - ETA: 1:17 - loss: 2.927 - ETA: 1:17 - loss: 2.926 - ETA: 1:17 - loss: 2.927 - ETA: 1:17 - loss: 2.928 - ETA: 1:16 - loss: 2.929 - ETA: 1:16 - loss: 2.931 - ETA: 1:16 - loss: 2.930 - ETA: 1:15 - loss: 2.930 - ETA: 1:15 - loss: 2.930 - ETA: 1:15 - loss: 2.930 - ETA: 1:15 - loss: 2.933 - ETA: 1:14 - loss: 2.932 - ETA: 1:14 - loss: 2.931 - ETA: 1:14 - loss: 2.932 - ETA: 1:14 - loss: 2.931 - ETA: 1:13 - loss: 2.930 - ETA: 1:13 - loss: 2.928 - ETA: 1:13 - loss: 2.926 - ETA: 1:13 - loss: 2.929 - ETA: 1:12 - loss: 2.928 - ETA: 1:12 - loss: 2.930 - ETA: 1:12 - loss: 2.929 - ETA: 1:11 - loss: 2.927 - ETA: 1:11 - loss: 2.925 - ETA: 1:11 - loss: 2.924 - ETA: 1:11 - loss: 2.925 - ETA: 1:10 - loss: 2.924 - ETA: 1:10 - loss: 2.925 - ETA: 1:10 - loss: 2.926 - ETA: 1:10 - loss: 2.927 - ETA: 1:09 - loss: 2.927 - ETA: 1:09 - loss: 2.928 - ETA: 1:09 - loss: 2.927 - ETA: 1:09 - loss: 2.926 - ETA: 1:08 - loss: 2.928 - ETA: 1:08 - loss: 2.927 - ETA: 1:08 - loss: 2.925 - ETA: 1:07 - loss: 2.925 - ETA: 1:07 - loss: 2.925 - ETA: 1:07 - loss: 2.927 - ETA: 1:07 - loss: 2.927 - ETA: 1:06 - loss: 2.928 - ETA: 1:06 - loss: 2.927 - ETA: 1:06 - loss: 2.927 - ETA: 1:06 - loss: 2.929 - ETA: 1:05 - loss: 2.927 - ETA: 1:05 - loss: 2.929 - ETA: 1:05 - loss: 2.928 - ETA: 1:05 - loss: 2.928 - ETA: 1:04 - loss: 2.928 - ETA: 1:04 - loss: 2.927 - ETA: 1:04 - loss: 2.929 - ETA: 1:03 - loss: 2.929 - ETA: 1:03 - loss: 2.929 - ETA: 1:03 - loss: 2.928 - ETA: 1:03 - loss: 2.927 - ETA: 1:02 - loss: 2.927 - ETA: 1:02 - loss: 2.927 - ETA: 1:02 - loss: 2.927 - ETA: 1:02 - loss: 2.926 - ETA: 1:01 - loss: 2.926 - ETA: 1:01 - loss: 2.926 - ETA: 1:01 - loss: 2.925 - ETA: 1:00 - loss: 2.923 - ETA: 1:00 - loss: 2.922 - ETA: 1:00 - loss: 2.923 - ETA: 1:00 - loss: 2.925 - ETA: 59s - loss: 2.926 - ETA: 59s - loss: 2.92 - ETA: 59s - loss: 2.92 - ETA: 59s - loss: 2.92 - ETA: 58s - loss: 2.92 - ETA: 58s - loss: 2.92 - ETA: 58s - loss: 2.92 - ETA: 58s - loss: 2.92 - ETA: 57s - loss: 2.92 - ETA: 57s - loss: 2.92 - ETA: 57s - loss: 2.92 - ETA: 57s - loss: 2.92 - ETA: 56s - loss: 2.92 - ETA: 56s - loss: 2.92 - ETA: 56s - loss: 2.92 - ETA: 55s - loss: 2.92 - ETA: 55s - loss: 2.92 - ETA: 55s - loss: 2.92 - ETA: 55s - loss: 2.92 - ETA: 54s - loss: 2.92 - ETA: 54s - loss: 2.92 - ETA: 54s - loss: 2.92 - ETA: 54s - loss: 2.92 - ETA: 53s - loss: 2.92 - ETA: 53s - loss: 2.92 - ETA: 53s - loss: 2.92 - ETA: 52s - loss: 2.92 - ETA: 52s - loss: 2.92 - ETA: 52s - loss: 2.92 - ETA: 52s - loss: 2.92 - ETA: 51s - loss: 2.92 - ETA: 51s - loss: 2.92 - ETA: 51s - loss: 2.92 - ETA: 51s - loss: 2.92 - ETA: 50s - loss: 2.92 - ETA: 50s - loss: 2.92 - ETA: 50s - loss: 2.92 - ETA: 50s - loss: 2.92 - ETA: 49s - loss: 2.92 - ETA: 49s - loss: 2.92 - ETA: 49s - loss: 2.92 - ETA: 48s - loss: 2.92 - ETA: 48s - loss: 2.92 - ETA: 48s - loss: 2.92 - ETA: 48s - loss: 2.93 - ETA: 47s - loss: 2.93 - ETA: 47s - loss: 2.93 - ETA: 47s - loss: 2.93 - ETA: 47s - loss: 2.92 - ETA: 46s - loss: 2.93 - ETA: 46s - loss: 2.93 - ETA: 46s - loss: 2.93 - ETA: 46s - loss: 2.93 - ETA: 45s - loss: 2.93 - ETA: 45s - loss: 2.92 - ETA: 45s - loss: 2.92 - ETA: 45s - loss: 2.92 - ETA: 44s - loss: 2.92 - ETA: 44s - loss: 2.92 - ETA: 44s - loss: 2.92 - ETA: 43s - loss: 2.92 - ETA: 43s - loss: 2.92 - ETA: 43s - loss: 2.92 - ETA: 43s - loss: 2.92 - ETA: 42s - loss: 2.92 - ETA: 42s - loss: 2.92 - ETA: 42s - loss: 2.92 - ETA: 42s - loss: 2.92 - ETA: 41s - loss: 2.92 - ETA: 41s - loss: 2.92 - ETA: 41s - loss: 2.92 - ETA: 41s - loss: 2.92 - ETA: 40s - loss: 2.92 - ETA: 40s - loss: 2.92 - ETA: 40s - loss: 2.93 - ETA: 39s - loss: 2.92 - ETA: 39s - loss: 2.92 - ETA: 39s - loss: 2.92 - ETA: 39s - loss: 2.92 - ETA: 38s - loss: 2.92 - ETA: 38s - loss: 2.92 - ETA: 38s - loss: 2.92 - ETA: 38s - loss: 2.93 - ETA: 37s - loss: 2.93 - ETA: 37s - loss: 2.93 - ETA: 37s - loss: 2.93 - ETA: 37s - loss: 2.93 - ETA: 36s - loss: 2.93 - ETA: 36s - loss: 2.93 - ETA: 36s - loss: 2.93 - ETA: 36s - loss: 2.93 - ETA: 35s - loss: 2.93 - ETA: 35s - loss: 2.93 - ETA: 35s - loss: 2.93 - ETA: 34s - loss: 2.92 - ETA: 34s - loss: 2.92 - ETA: 34s - loss: 2.92 - ETA: 34s - loss: 2.93 - ETA: 33s - loss: 2.92 - ETA: 33s - loss: 2.92 - ETA: 33s - loss: 2.92 - ETA: 33s - loss: 2.92 - ETA: 32s - loss: 2.92 - ETA: 32s - loss: 2.92 - ETA: 32s - loss: 2.92 - ETA: 31s - loss: 2.92 - ETA: 31s - loss: 2.92 - ETA: 31s - loss: 2.92 - ETA: 31s - loss: 2.92 - ETA: 30s - loss: 2.92 - ETA: 30s - loss: 2.92 - ETA: 30s - loss: 2.92 - ETA: 30s - loss: 2.92 - ETA: 29s - loss: 2.92 - ETA: 29s - loss: 2.92 - ETA: 29s - loss: 2.92 - ETA: 29s - loss: 2.92 - ETA: 28s - loss: 2.92 - ETA: 28s - loss: 2.92 - ETA: 28s - loss: 2.92 - ETA: 28s - loss: 2.92 - ETA: 27s - loss: 2.92 - ETA: 27s - loss: 2.91 - ETA: 27s - loss: 2.91 - ETA: 26s - loss: 2.91 - ETA: 26s - loss: 2.91 - ETA: 26s - loss: 2.91 - ETA: 26s - loss: 2.91 - ETA: 25s - loss: 2.91 - ETA: 25s - loss: 2.91 - ETA: 25s - loss: 2.91 - ETA: 25s - loss: 2.91 - ETA: 24s - loss: 2.91 - ETA: 24s - loss: 2.91 - ETA: 24s - loss: 2.91 - ETA: 23s - loss: 2.91 - ETA: 23s - loss: 2.91 - ETA: 23s - loss: 2.91 - ETA: 23s - loss: 2.91 - ETA: 22s - loss: 2.91 - ETA: 22s - loss: 2.91 - ETA: 22s - loss: 2.91 - ETA: 22s - loss: 2.91 - ETA: 21s - loss: 2.91 - ETA: 21s - loss: 2.91 - ETA: 21s - loss: 2.91 - ETA: 20s - loss: 2.91 - ETA: 20s - loss: 2.91 - ETA: 20s - loss: 2.91 - ETA: 20s - loss: 2.90 - ETA: 19s - loss: 2.90 - ETA: 19s - loss: 2.90 - ETA: 19s - loss: 2.90 - ETA: 19s - loss: 2.90 - ETA: 18s - loss: 2.90 - ETA: 18s - loss: 2.90 - ETA: 18s - loss: 2.90 - ETA: 18s - loss: 2.90 - ETA: 17s - loss: 2.90 - ETA: 17s - loss: 2.90 - ETA: 17s - loss: 2.90 - ETA: 16s - loss: 2.90 - ETA: 16s - loss: 2.90 - ETA: 16s - loss: 2.90 - ETA: 16s - loss: 2.90 - ETA: 15s - loss: 2.90 - ETA: 15s - loss: 2.90 - ETA: 15s - loss: 2.90 - ETA: 15s - loss: 2.90 - ETA: 14s - loss: 2.90 - ETA: 14s - loss: 2.90 - ETA: 14s - loss: 2.90 - ETA: 13s - loss: 2.90 - ETA: 13s - loss: 2.90 - ETA: 13s - loss: 2.90 - ETA: 13s - loss: 2.90 - ETA: 12s - loss: 2.90 - ETA: 12s - loss: 2.91 - ETA: 12s - loss: 2.91 - ETA: 12s - loss: 2.9139"
     ]
    },
    {
     "name": "stdout",
     "output_type": "stream",
     "text": [
      "1000/1000 [==============================] - ETA: 11s - loss: 2.91 - ETA: 11s - loss: 2.91 - ETA: 11s - loss: 2.91 - ETA: 11s - loss: 2.91 - ETA: 10s - loss: 2.91 - ETA: 10s - loss: 2.91 - ETA: 10s - loss: 2.91 - ETA: 9s - loss: 2.9143 - ETA: 9s - loss: 2.913 - ETA: 9s - loss: 2.913 - ETA: 9s - loss: 2.914 - ETA: 8s - loss: 2.915 - ETA: 8s - loss: 2.915 - ETA: 8s - loss: 2.915 - ETA: 8s - loss: 2.915 - ETA: 7s - loss: 2.915 - ETA: 7s - loss: 2.916 - ETA: 7s - loss: 2.916 - ETA: 6s - loss: 2.916 - ETA: 6s - loss: 2.917 - ETA: 6s - loss: 2.918 - ETA: 6s - loss: 2.917 - ETA: 5s - loss: 2.919 - ETA: 5s - loss: 2.920 - ETA: 5s - loss: 2.922 - ETA: 5s - loss: 2.922 - ETA: 4s - loss: 2.922 - ETA: 4s - loss: 2.921 - ETA: 4s - loss: 2.920 - ETA: 4s - loss: 2.923 - ETA: 3s - loss: 2.923 - ETA: 3s - loss: 2.922 - ETA: 3s - loss: 2.922 - ETA: 2s - loss: 2.923 - ETA: 2s - loss: 2.924 - ETA: 2s - loss: 2.923 - ETA: 2s - loss: 2.923 - ETA: 1s - loss: 2.923 - ETA: 1s - loss: 2.921 - ETA: 1s - loss: 2.922 - ETA: 1s - loss: 2.922 - ETA: 0s - loss: 2.923 - ETA: 0s - loss: 2.924 - ETA: 0s - loss: 2.923 - 448s 448ms/step - loss: 2.9240 - val_loss: 2.8211\n",
      "\n",
      "Epoch 00029: val_loss improved from inf to 2.82107, saving model to ssd7_Category_epoch-29_loss-2.9222_val_loss-2.8211.h5\n",
      "Epoch 30/30\n"
     ]
    },
    {
     "name": "stdout",
     "output_type": "stream",
     "text": [
      " 314/1000 [========>.....................] - ETA: 3:43 - loss: 4.139 - ETA: 3:46 - loss: 4.536 - ETA: 3:47 - loss: 3.757 - ETA: 3:47 - loss: 3.169 - ETA: 3:47 - loss: 3.273 - ETA: 3:47 - loss: 3.124 - ETA: 3:47 - loss: 3.053 - ETA: 3:47 - loss: 2.954 - ETA: 3:46 - loss: 2.893 - ETA: 3:46 - loss: 2.839 - ETA: 3:46 - loss: 2.770 - ETA: 3:45 - loss: 2.776 - ETA: 3:45 - loss: 2.794 - ETA: 3:45 - loss: 2.854 - ETA: 3:45 - loss: 2.987 - ETA: 3:45 - loss: 2.905 - ETA: 3:44 - loss: 2.880 - ETA: 3:44 - loss: 2.796 - ETA: 3:44 - loss: 2.863 - ETA: 3:44 - loss: 2.839 - ETA: 3:44 - loss: 2.841 - ETA: 3:44 - loss: 2.839 - ETA: 3:43 - loss: 2.868 - ETA: 3:43 - loss: 2.841 - ETA: 3:43 - loss: 2.837 - ETA: 3:39 - loss: 2.791 - ETA: 3:39 - loss: 2.770 - ETA: 3:39 - loss: 2.765 - ETA: 3:39 - loss: 2.765 - ETA: 3:39 - loss: 2.795 - ETA: 3:39 - loss: 2.749 - ETA: 3:39 - loss: 2.729 - ETA: 3:38 - loss: 2.760 - ETA: 3:38 - loss: 2.764 - ETA: 3:38 - loss: 2.734 - ETA: 3:38 - loss: 2.723 - ETA: 3:38 - loss: 2.778 - ETA: 3:38 - loss: 2.749 - ETA: 3:38 - loss: 2.754 - ETA: 3:38 - loss: 2.804 - ETA: 3:37 - loss: 2.766 - ETA: 3:37 - loss: 2.740 - ETA: 3:37 - loss: 2.759 - ETA: 3:38 - loss: 2.784 - ETA: 3:39 - loss: 2.820 - ETA: 3:39 - loss: 2.792 - ETA: 3:40 - loss: 2.763 - ETA: 3:40 - loss: 2.753 - ETA: 3:39 - loss: 2.748 - ETA: 3:39 - loss: 2.777 - ETA: 3:40 - loss: 2.778 - ETA: 3:39 - loss: 2.793 - ETA: 3:40 - loss: 2.793 - ETA: 3:40 - loss: 2.786 - ETA: 3:41 - loss: 2.799 - ETA: 3:41 - loss: 2.803 - ETA: 3:41 - loss: 2.794 - ETA: 3:40 - loss: 2.772 - ETA: 3:40 - loss: 2.783 - ETA: 3:41 - loss: 2.786 - ETA: 3:41 - loss: 2.788 - ETA: 3:41 - loss: 2.799 - ETA: 3:40 - loss: 2.812 - ETA: 3:41 - loss: 2.860 - ETA: 3:41 - loss: 2.847 - ETA: 3:41 - loss: 2.848 - ETA: 3:42 - loss: 2.837 - ETA: 3:42 - loss: 2.828 - ETA: 3:42 - loss: 2.827 - ETA: 3:41 - loss: 2.841 - ETA: 3:41 - loss: 2.841 - ETA: 3:40 - loss: 2.843 - ETA: 3:41 - loss: 2.864 - ETA: 3:41 - loss: 2.881 - ETA: 3:41 - loss: 2.870 - ETA: 3:41 - loss: 2.926 - ETA: 3:41 - loss: 2.939 - ETA: 3:41 - loss: 2.934 - ETA: 3:41 - loss: 2.943 - ETA: 3:41 - loss: 2.948 - ETA: 3:42 - loss: 2.943 - ETA: 3:41 - loss: 2.960 - ETA: 3:42 - loss: 2.942 - ETA: 3:42 - loss: 2.923 - ETA: 3:42 - loss: 2.916 - ETA: 3:42 - loss: 2.933 - ETA: 3:42 - loss: 2.923 - ETA: 3:42 - loss: 2.934 - ETA: 3:42 - loss: 2.914 - ETA: 3:42 - loss: 2.917 - ETA: 3:42 - loss: 2.920 - ETA: 3:42 - loss: 2.921 - ETA: 3:42 - loss: 2.924 - ETA: 3:43 - loss: 2.928 - ETA: 3:43 - loss: 2.915 - ETA: 3:43 - loss: 2.923 - ETA: 3:42 - loss: 2.921 - ETA: 3:43 - loss: 2.926 - ETA: 3:43 - loss: 2.941 - ETA: 3:42 - loss: 2.935 - ETA: 3:42 - loss: 2.949 - ETA: 3:42 - loss: 2.953 - ETA: 3:42 - loss: 2.961 - ETA: 3:42 - loss: 2.969 - ETA: 3:42 - loss: 2.962 - ETA: 3:41 - loss: 2.964 - ETA: 3:41 - loss: 2.968 - ETA: 3:41 - loss: 2.957 - ETA: 3:41 - loss: 2.959 - ETA: 3:40 - loss: 2.969 - ETA: 3:40 - loss: 2.968 - ETA: 3:41 - loss: 2.967 - ETA: 3:40 - loss: 2.961 - ETA: 3:40 - loss: 2.951 - ETA: 3:40 - loss: 2.939 - ETA: 3:40 - loss: 2.940 - ETA: 3:39 - loss: 2.946 - ETA: 3:39 - loss: 2.931 - ETA: 3:39 - loss: 2.919 - ETA: 3:39 - loss: 2.917 - ETA: 3:39 - loss: 2.922 - ETA: 3:38 - loss: 2.926 - ETA: 3:38 - loss: 2.932 - ETA: 3:38 - loss: 2.927 - ETA: 3:38 - loss: 2.970 - ETA: 3:39 - loss: 2.956 - ETA: 3:38 - loss: 2.961 - ETA: 3:38 - loss: 2.949 - ETA: 3:38 - loss: 2.962 - ETA: 3:38 - loss: 2.960 - ETA: 3:37 - loss: 2.953 - ETA: 3:37 - loss: 2.956 - ETA: 3:37 - loss: 2.949 - ETA: 3:37 - loss: 2.953 - ETA: 3:37 - loss: 2.957 - ETA: 3:37 - loss: 2.953 - ETA: 3:36 - loss: 2.962 - ETA: 3:36 - loss: 2.967 - ETA: 3:36 - loss: 2.980 - ETA: 3:36 - loss: 2.976 - ETA: 3:36 - loss: 2.987 - ETA: 3:36 - loss: 2.993 - ETA: 3:35 - loss: 2.997 - ETA: 3:35 - loss: 2.987 - ETA: 3:35 - loss: 2.977 - ETA: 3:35 - loss: 2.971 - ETA: 3:35 - loss: 2.974 - ETA: 3:35 - loss: 2.973 - ETA: 3:34 - loss: 2.977 - ETA: 3:34 - loss: 2.978 - ETA: 3:34 - loss: 2.981 - ETA: 3:34 - loss: 2.978 - ETA: 3:33 - loss: 2.982 - ETA: 3:33 - loss: 2.978 - ETA: 3:33 - loss: 2.981 - ETA: 3:33 - loss: 2.975 - ETA: 3:33 - loss: 2.971 - ETA: 3:33 - loss: 2.967 - ETA: 3:33 - loss: 2.960 - ETA: 3:33 - loss: 2.965 - ETA: 3:33 - loss: 2.958 - ETA: 3:33 - loss: 2.969 - ETA: 3:33 - loss: 2.960 - ETA: 3:32 - loss: 2.955 - ETA: 3:32 - loss: 2.954 - ETA: 3:32 - loss: 2.950 - ETA: 3:32 - loss: 2.953 - ETA: 3:32 - loss: 2.947 - ETA: 3:32 - loss: 2.957 - ETA: 3:31 - loss: 2.951 - ETA: 3:31 - loss: 2.954 - ETA: 3:31 - loss: 2.956 - ETA: 3:31 - loss: 2.952 - ETA: 3:30 - loss: 2.958 - ETA: 3:30 - loss: 2.960 - ETA: 3:30 - loss: 2.955 - ETA: 3:30 - loss: 2.949 - ETA: 3:30 - loss: 2.949 - ETA: 3:31 - loss: 2.942 - ETA: 3:30 - loss: 2.939 - ETA: 3:30 - loss: 2.933 - ETA: 3:30 - loss: 2.935 - ETA: 3:29 - loss: 2.930 - ETA: 3:29 - loss: 2.928 - ETA: 3:29 - loss: 2.923 - ETA: 3:29 - loss: 2.928 - ETA: 3:28 - loss: 2.927 - ETA: 3:28 - loss: 2.931 - ETA: 3:28 - loss: 2.931 - ETA: 3:28 - loss: 2.937 - ETA: 3:28 - loss: 2.948 - ETA: 3:27 - loss: 2.952 - ETA: 3:27 - loss: 2.955 - ETA: 3:27 - loss: 2.959 - ETA: 3:27 - loss: 2.964 - ETA: 3:27 - loss: 2.967 - ETA: 3:26 - loss: 2.966 - ETA: 3:26 - loss: 2.966 - ETA: 3:26 - loss: 2.961 - ETA: 3:26 - loss: 2.959 - ETA: 3:26 - loss: 2.968 - ETA: 3:25 - loss: 2.964 - ETA: 3:25 - loss: 2.960 - ETA: 3:25 - loss: 2.960 - ETA: 3:25 - loss: 2.963 - ETA: 3:25 - loss: 2.963 - ETA: 3:24 - loss: 2.956 - ETA: 3:24 - loss: 2.955 - ETA: 3:24 - loss: 2.959 - ETA: 3:24 - loss: 2.958 - ETA: 3:24 - loss: 2.957 - ETA: 3:24 - loss: 2.951 - ETA: 3:23 - loss: 2.951 - ETA: 3:23 - loss: 2.948 - ETA: 3:23 - loss: 2.952 - ETA: 3:22 - loss: 2.946 - ETA: 3:22 - loss: 2.938 - ETA: 3:22 - loss: 2.943 - ETA: 3:22 - loss: 2.942 - ETA: 3:22 - loss: 2.943 - ETA: 3:22 - loss: 2.940 - ETA: 3:22 - loss: 2.950 - ETA: 3:22 - loss: 2.948 - ETA: 3:22 - loss: 2.945 - ETA: 3:22 - loss: 2.947 - ETA: 3:21 - loss: 2.942 - ETA: 3:21 - loss: 2.952 - ETA: 3:21 - loss: 2.949 - ETA: 3:21 - loss: 2.949 - ETA: 3:20 - loss: 2.949 - ETA: 3:20 - loss: 2.952 - ETA: 3:20 - loss: 2.954 - ETA: 3:20 - loss: 2.951 - ETA: 3:19 - loss: 2.952 - ETA: 3:19 - loss: 2.951 - ETA: 3:19 - loss: 2.949 - ETA: 3:19 - loss: 2.947 - ETA: 3:19 - loss: 2.946 - ETA: 3:19 - loss: 2.940 - ETA: 3:19 - loss: 2.944 - ETA: 3:18 - loss: 2.939 - ETA: 3:18 - loss: 2.936 - ETA: 3:18 - loss: 2.934 - ETA: 3:18 - loss: 2.930 - ETA: 3:18 - loss: 2.931 - ETA: 3:17 - loss: 2.941 - ETA: 3:17 - loss: 2.946 - ETA: 3:17 - loss: 2.941 - ETA: 3:17 - loss: 2.938 - ETA: 3:16 - loss: 2.942 - ETA: 3:16 - loss: 2.937 - ETA: 3:16 - loss: 2.937 - ETA: 3:16 - loss: 2.933 - ETA: 3:16 - loss: 2.928 - ETA: 3:15 - loss: 2.927 - ETA: 3:15 - loss: 2.937 - ETA: 3:15 - loss: 2.931 - ETA: 3:15 - loss: 2.935 - ETA: 3:14 - loss: 2.940 - ETA: 3:14 - loss: 2.944 - ETA: 3:14 - loss: 2.940 - ETA: 3:13 - loss: 2.935 - ETA: 3:13 - loss: 2.939 - ETA: 3:13 - loss: 2.934 - ETA: 3:13 - loss: 2.931 - ETA: 3:12 - loss: 2.934 - ETA: 3:12 - loss: 2.935 - ETA: 3:12 - loss: 2.928 - ETA: 3:12 - loss: 2.929 - ETA: 3:11 - loss: 2.928 - ETA: 3:11 - loss: 2.931 - ETA: 3:11 - loss: 2.929 - ETA: 3:11 - loss: 2.928 - ETA: 3:10 - loss: 2.930 - ETA: 3:10 - loss: 2.957 - ETA: 3:10 - loss: 2.954 - ETA: 3:10 - loss: 2.955 - ETA: 3:10 - loss: 2.951 - ETA: 3:09 - loss: 2.953 - ETA: 3:09 - loss: 2.956 - ETA: 3:09 - loss: 2.955 - ETA: 3:09 - loss: 2.954 - ETA: 3:08 - loss: 2.953 - ETA: 3:08 - loss: 2.955 - ETA: 3:08 - loss: 2.954 - ETA: 3:08 - loss: 2.954 - ETA: 3:07 - loss: 2.955 - ETA: 3:07 - loss: 2.953 - ETA: 3:07 - loss: 2.956 - ETA: 3:07 - loss: 2.952 - ETA: 3:06 - loss: 2.954 - ETA: 3:06 - loss: 2.954 - ETA: 3:06 - loss: 2.956 - ETA: 3:05 - loss: 2.957 - ETA: 3:05 - loss: 2.955 - ETA: 3:05 - loss: 2.953 - ETA: 3:05 - loss: 2.953 - ETA: 3:04 - loss: 2.958 - ETA: 3:04 - loss: 2.956 - ETA: 3:04 - loss: 2.957 - ETA: 3:04 - loss: 2.957 - ETA: 3:03 - loss: 2.957 - ETA: 3:03 - loss: 2.960 - ETA: 3:02 - loss: 2.960 - ETA: 3:02 - loss: 2.960 - ETA: 3:02 - loss: 2.961 - ETA: 3:02 - loss: 2.959 - ETA: 3:02 - loss: 2.959 - ETA: 3:01 - loss: 2.960 - ETA: 3:01 - loss: 2.959 - ETA: 3:01 - loss: 2.958 - ETA: 3:01 - loss: 2.959 - ETA: 3:00 - loss: 2.958 - ETA: 3:00 - loss: 2.9610 628/1000 [=================>............] - ETA: 3:00 - loss: 2.968 - ETA: 2:59 - loss: 2.970 - ETA: 2:59 - loss: 2.972 - ETA: 2:59 - loss: 2.972 - ETA: 2:58 - loss: 2.979 - ETA: 2:58 - loss: 2.975 - ETA: 2:58 - loss: 2.978 - ETA: 2:58 - loss: 2.976 - ETA: 2:57 - loss: 2.975 - ETA: 2:57 - loss: 2.975 - ETA: 2:57 - loss: 2.973 - ETA: 2:57 - loss: 2.970 - ETA: 2:56 - loss: 2.973 - ETA: 2:56 - loss: 2.973 - ETA: 2:56 - loss: 2.971 - ETA: 2:55 - loss: 2.969 - ETA: 2:55 - loss: 2.965 - ETA: 2:55 - loss: 2.964 - ETA: 2:55 - loss: 2.959 - ETA: 2:54 - loss: 2.957 - ETA: 2:54 - loss: 2.958 - ETA: 2:54 - loss: 2.954 - ETA: 2:54 - loss: 2.950 - ETA: 2:53 - loss: 2.947 - ETA: 2:53 - loss: 2.945 - ETA: 2:53 - loss: 2.941 - ETA: 2:53 - loss: 2.941 - ETA: 2:52 - loss: 2.939 - ETA: 2:52 - loss: 2.938 - ETA: 2:52 - loss: 2.937 - ETA: 2:52 - loss: 2.938 - ETA: 2:51 - loss: 2.933 - ETA: 2:51 - loss: 2.943 - ETA: 2:51 - loss: 2.943 - ETA: 2:51 - loss: 2.938 - ETA: 2:50 - loss: 2.941 - ETA: 2:50 - loss: 2.940 - ETA: 2:50 - loss: 2.938 - ETA: 2:50 - loss: 2.940 - ETA: 2:50 - loss: 2.936 - ETA: 2:49 - loss: 2.934 - ETA: 2:49 - loss: 2.933 - ETA: 2:49 - loss: 2.929 - ETA: 2:49 - loss: 2.926 - ETA: 2:48 - loss: 2.926 - ETA: 2:48 - loss: 2.925 - ETA: 2:48 - loss: 2.922 - ETA: 2:48 - loss: 2.926 - ETA: 2:47 - loss: 2.923 - ETA: 2:47 - loss: 2.926 - ETA: 2:47 - loss: 2.925 - ETA: 2:47 - loss: 2.927 - ETA: 2:46 - loss: 2.931 - ETA: 2:46 - loss: 2.931 - ETA: 2:46 - loss: 2.928 - ETA: 2:45 - loss: 2.930 - ETA: 2:45 - loss: 2.935 - ETA: 2:45 - loss: 2.932 - ETA: 2:45 - loss: 2.931 - ETA: 2:45 - loss: 2.929 - ETA: 2:44 - loss: 2.932 - ETA: 2:44 - loss: 2.932 - ETA: 2:44 - loss: 2.931 - ETA: 2:44 - loss: 2.928 - ETA: 2:43 - loss: 2.931 - ETA: 2:43 - loss: 2.929 - ETA: 2:43 - loss: 2.932 - ETA: 2:43 - loss: 2.929 - ETA: 2:42 - loss: 2.925 - ETA: 2:42 - loss: 2.925 - ETA: 2:42 - loss: 2.925 - ETA: 2:42 - loss: 2.924 - ETA: 2:41 - loss: 2.923 - ETA: 2:41 - loss: 2.921 - ETA: 2:41 - loss: 2.920 - ETA: 2:41 - loss: 2.919 - ETA: 2:40 - loss: 2.922 - ETA: 2:40 - loss: 2.923 - ETA: 2:40 - loss: 2.923 - ETA: 2:40 - loss: 2.922 - ETA: 2:39 - loss: 2.921 - ETA: 2:39 - loss: 2.923 - ETA: 2:39 - loss: 2.924 - ETA: 2:39 - loss: 2.924 - ETA: 2:39 - loss: 2.923 - ETA: 2:38 - loss: 2.925 - ETA: 2:38 - loss: 2.921 - ETA: 2:38 - loss: 2.926 - ETA: 2:37 - loss: 2.926 - ETA: 2:37 - loss: 2.922 - ETA: 2:37 - loss: 2.927 - ETA: 2:37 - loss: 2.924 - ETA: 2:36 - loss: 2.925 - ETA: 2:36 - loss: 2.926 - ETA: 2:36 - loss: 2.923 - ETA: 2:36 - loss: 2.926 - ETA: 2:35 - loss: 2.925 - ETA: 2:35 - loss: 2.928 - ETA: 2:35 - loss: 2.928 - ETA: 2:34 - loss: 2.926 - ETA: 2:34 - loss: 2.928 - ETA: 2:34 - loss: 2.927 - ETA: 2:34 - loss: 2.926 - ETA: 2:34 - loss: 2.925 - ETA: 2:33 - loss: 2.924 - ETA: 2:33 - loss: 2.928 - ETA: 2:33 - loss: 2.925 - ETA: 2:32 - loss: 2.924 - ETA: 2:32 - loss: 2.929 - ETA: 2:32 - loss: 2.928 - ETA: 2:32 - loss: 2.927 - ETA: 2:31 - loss: 2.931 - ETA: 2:31 - loss: 2.937 - ETA: 2:31 - loss: 2.937 - ETA: 2:31 - loss: 2.936 - ETA: 2:31 - loss: 2.935 - ETA: 2:30 - loss: 2.935 - ETA: 2:30 - loss: 2.937 - ETA: 2:30 - loss: 2.934 - ETA: 2:30 - loss: 2.938 - ETA: 2:29 - loss: 2.937 - ETA: 2:29 - loss: 2.936 - ETA: 2:29 - loss: 2.934 - ETA: 2:29 - loss: 2.935 - ETA: 2:28 - loss: 2.938 - ETA: 2:28 - loss: 2.938 - ETA: 2:28 - loss: 2.941 - ETA: 2:28 - loss: 2.942 - ETA: 2:27 - loss: 2.938 - ETA: 2:27 - loss: 2.948 - ETA: 2:27 - loss: 2.948 - ETA: 2:26 - loss: 2.948 - ETA: 2:26 - loss: 2.945 - ETA: 2:26 - loss: 2.946 - ETA: 2:25 - loss: 2.948 - ETA: 2:25 - loss: 2.947 - ETA: 2:25 - loss: 2.946 - ETA: 2:25 - loss: 2.956 - ETA: 2:24 - loss: 2.956 - ETA: 2:24 - loss: 2.956 - ETA: 2:24 - loss: 2.957 - ETA: 2:23 - loss: 2.957 - ETA: 2:23 - loss: 2.956 - ETA: 2:23 - loss: 2.960 - ETA: 2:23 - loss: 2.958 - ETA: 2:22 - loss: 2.960 - ETA: 2:22 - loss: 2.961 - ETA: 2:22 - loss: 2.962 - ETA: 2:22 - loss: 2.961 - ETA: 2:22 - loss: 2.963 - ETA: 2:21 - loss: 2.963 - ETA: 2:21 - loss: 2.963 - ETA: 2:21 - loss: 2.962 - ETA: 2:21 - loss: 2.964 - ETA: 2:20 - loss: 2.962 - ETA: 2:20 - loss: 2.964 - ETA: 2:20 - loss: 2.965 - ETA: 2:20 - loss: 2.962 - ETA: 2:19 - loss: 2.965 - ETA: 2:19 - loss: 2.963 - ETA: 2:19 - loss: 2.961 - ETA: 2:18 - loss: 2.959 - ETA: 2:18 - loss: 2.956 - ETA: 2:18 - loss: 2.955 - ETA: 2:18 - loss: 2.958 - ETA: 2:17 - loss: 2.960 - ETA: 2:17 - loss: 2.958 - ETA: 2:17 - loss: 2.957 - ETA: 2:17 - loss: 2.955 - ETA: 2:16 - loss: 2.953 - ETA: 2:16 - loss: 2.951 - ETA: 2:16 - loss: 2.966 - ETA: 2:16 - loss: 2.966 - ETA: 2:15 - loss: 2.964 - ETA: 2:15 - loss: 2.962 - ETA: 2:15 - loss: 2.961 - ETA: 2:15 - loss: 2.965 - ETA: 2:14 - loss: 2.965 - ETA: 2:14 - loss: 2.963 - ETA: 2:14 - loss: 2.965 - ETA: 2:14 - loss: 2.969 - ETA: 2:13 - loss: 2.969 - ETA: 2:13 - loss: 2.970 - ETA: 2:13 - loss: 2.969 - ETA: 2:13 - loss: 2.968 - ETA: 2:12 - loss: 2.964 - ETA: 2:12 - loss: 2.963 - ETA: 2:12 - loss: 2.965 - ETA: 2:12 - loss: 2.965 - ETA: 2:11 - loss: 2.966 - ETA: 2:11 - loss: 2.966 - ETA: 2:11 - loss: 2.965 - ETA: 2:11 - loss: 2.964 - ETA: 2:10 - loss: 2.966 - ETA: 2:10 - loss: 2.964 - ETA: 2:10 - loss: 2.964 - ETA: 2:10 - loss: 2.964 - ETA: 2:09 - loss: 2.964 - ETA: 2:09 - loss: 2.966 - ETA: 2:09 - loss: 2.964 - ETA: 2:09 - loss: 2.965 - ETA: 2:08 - loss: 2.966 - ETA: 2:08 - loss: 2.965 - ETA: 2:08 - loss: 2.965 - ETA: 2:07 - loss: 2.963 - ETA: 2:07 - loss: 2.963 - ETA: 2:07 - loss: 2.966 - ETA: 2:07 - loss: 2.966 - ETA: 2:06 - loss: 2.967 - ETA: 2:06 - loss: 2.971 - ETA: 2:06 - loss: 2.970 - ETA: 2:06 - loss: 2.976 - ETA: 2:05 - loss: 2.975 - ETA: 2:05 - loss: 2.975 - ETA: 2:05 - loss: 2.974 - ETA: 2:04 - loss: 2.974 - ETA: 2:04 - loss: 2.974 - ETA: 2:04 - loss: 2.972 - ETA: 2:04 - loss: 2.972 - ETA: 2:03 - loss: 2.972 - ETA: 2:03 - loss: 2.974 - ETA: 2:03 - loss: 2.973 - ETA: 2:03 - loss: 2.973 - ETA: 2:02 - loss: 2.974 - ETA: 2:02 - loss: 2.973 - ETA: 2:02 - loss: 2.975 - ETA: 2:02 - loss: 2.972 - ETA: 2:01 - loss: 2.971 - ETA: 2:01 - loss: 2.970 - ETA: 2:01 - loss: 2.969 - ETA: 2:01 - loss: 2.970 - ETA: 2:00 - loss: 2.974 - ETA: 2:00 - loss: 2.973 - ETA: 2:00 - loss: 2.973 - ETA: 1:59 - loss: 2.974 - ETA: 1:59 - loss: 2.974 - ETA: 1:59 - loss: 2.973 - ETA: 1:59 - loss: 2.974 - ETA: 1:58 - loss: 2.973 - ETA: 1:58 - loss: 2.972 - ETA: 1:58 - loss: 2.976 - ETA: 1:58 - loss: 2.976 - ETA: 1:57 - loss: 2.974 - ETA: 1:57 - loss: 2.974 - ETA: 1:57 - loss: 2.973 - ETA: 1:57 - loss: 2.973 - ETA: 1:56 - loss: 2.973 - ETA: 1:56 - loss: 2.970 - ETA: 1:56 - loss: 2.971 - ETA: 1:56 - loss: 2.971 - ETA: 1:55 - loss: 2.972 - ETA: 1:55 - loss: 2.973 - ETA: 1:55 - loss: 2.972 - ETA: 1:55 - loss: 2.970 - ETA: 1:54 - loss: 2.968 - ETA: 1:54 - loss: 2.966 - ETA: 1:54 - loss: 2.963 - ETA: 1:54 - loss: 2.964 - ETA: 1:53 - loss: 2.963 - ETA: 1:53 - loss: 2.961 - ETA: 1:53 - loss: 2.962 - ETA: 1:53 - loss: 2.963 - ETA: 1:52 - loss: 2.963 - ETA: 1:52 - loss: 2.962 - ETA: 1:52 - loss: 2.963 - ETA: 1:52 - loss: 2.963 - ETA: 1:51 - loss: 2.964 - ETA: 1:51 - loss: 2.964 - ETA: 1:51 - loss: 2.964 - ETA: 1:50 - loss: 2.965 - ETA: 1:50 - loss: 2.965 - ETA: 1:50 - loss: 2.964 - ETA: 1:50 - loss: 2.964 - ETA: 1:49 - loss: 2.964 - ETA: 1:49 - loss: 2.966 - ETA: 1:49 - loss: 2.965 - ETA: 1:48 - loss: 2.963 - ETA: 1:48 - loss: 2.962 - ETA: 1:48 - loss: 2.962 - ETA: 1:48 - loss: 2.962 - ETA: 1:47 - loss: 2.961 - ETA: 1:47 - loss: 2.961 - ETA: 1:47 - loss: 2.961 - ETA: 1:47 - loss: 2.963 - ETA: 1:46 - loss: 2.961 - ETA: 1:46 - loss: 2.960 - ETA: 1:46 - loss: 2.959 - ETA: 1:46 - loss: 2.958 - ETA: 1:45 - loss: 2.958 - ETA: 1:45 - loss: 2.956 - ETA: 1:45 - loss: 2.960 - ETA: 1:44 - loss: 2.961 - ETA: 1:44 - loss: 2.959 - ETA: 1:44 - loss: 2.961 - ETA: 1:44 - loss: 2.960 - ETA: 1:43 - loss: 2.961 - ETA: 1:43 - loss: 2.963 - ETA: 1:43 - loss: 2.961 - ETA: 1:43 - loss: 2.961 - ETA: 1:42 - loss: 2.962 - ETA: 1:42 - loss: 2.965 - ETA: 1:42 - loss: 2.964 - ETA: 1:42 - loss: 2.963 - ETA: 1:41 - loss: 2.963 - ETA: 1:41 - loss: 2.962 - ETA: 1:41 - loss: 2.962 - ETA: 1:41 - loss: 2.961 - ETA: 1:40 - loss: 2.960 - ETA: 1:40 - loss: 2.961 - ETA: 1:40 - loss: 2.958 - ETA: 1:40 - loss: 2.958 - ETA: 1:39 - loss: 2.962 - ETA: 1:39 - loss: 2.964 - ETA: 1:39 - loss: 2.9653"
     ]
    },
    {
     "name": "stdout",
     "output_type": "stream",
     "text": [
      " 956/1000 [===========================>..] - ETA: 1:39 - loss: 2.963 - ETA: 1:38 - loss: 2.961 - ETA: 1:38 - loss: 2.962 - ETA: 1:38 - loss: 2.960 - ETA: 1:37 - loss: 2.960 - ETA: 1:37 - loss: 2.958 - ETA: 1:37 - loss: 2.958 - ETA: 1:37 - loss: 2.958 - ETA: 1:36 - loss: 2.958 - ETA: 1:36 - loss: 2.958 - ETA: 1:36 - loss: 2.960 - ETA: 1:36 - loss: 2.964 - ETA: 1:35 - loss: 2.964 - ETA: 1:35 - loss: 2.966 - ETA: 1:35 - loss: 2.965 - ETA: 1:35 - loss: 2.965 - ETA: 1:34 - loss: 2.965 - ETA: 1:34 - loss: 2.970 - ETA: 1:34 - loss: 2.972 - ETA: 1:34 - loss: 2.971 - ETA: 1:33 - loss: 2.969 - ETA: 1:33 - loss: 2.969 - ETA: 1:33 - loss: 2.969 - ETA: 1:32 - loss: 2.969 - ETA: 1:32 - loss: 2.968 - ETA: 1:32 - loss: 2.965 - ETA: 1:32 - loss: 2.964 - ETA: 1:31 - loss: 2.966 - ETA: 1:31 - loss: 2.964 - ETA: 1:31 - loss: 2.965 - ETA: 1:31 - loss: 2.963 - ETA: 1:30 - loss: 2.965 - ETA: 1:30 - loss: 2.964 - ETA: 1:30 - loss: 2.962 - ETA: 1:30 - loss: 2.963 - ETA: 1:29 - loss: 2.964 - ETA: 1:29 - loss: 2.965 - ETA: 1:29 - loss: 2.964 - ETA: 1:29 - loss: 2.964 - ETA: 1:28 - loss: 2.964 - ETA: 1:28 - loss: 2.964 - ETA: 1:28 - loss: 2.963 - ETA: 1:28 - loss: 2.964 - ETA: 1:27 - loss: 2.962 - ETA: 1:27 - loss: 2.961 - ETA: 1:27 - loss: 2.963 - ETA: 1:26 - loss: 2.961 - ETA: 1:26 - loss: 2.959 - ETA: 1:26 - loss: 2.958 - ETA: 1:26 - loss: 2.957 - ETA: 1:25 - loss: 2.956 - ETA: 1:25 - loss: 2.956 - ETA: 1:25 - loss: 2.958 - ETA: 1:25 - loss: 2.957 - ETA: 1:24 - loss: 2.959 - ETA: 1:24 - loss: 2.957 - ETA: 1:24 - loss: 2.955 - ETA: 1:24 - loss: 2.957 - ETA: 1:23 - loss: 2.958 - ETA: 1:23 - loss: 2.956 - ETA: 1:23 - loss: 2.957 - ETA: 1:22 - loss: 2.955 - ETA: 1:22 - loss: 2.953 - ETA: 1:22 - loss: 2.949 - ETA: 1:22 - loss: 2.948 - ETA: 1:21 - loss: 2.946 - ETA: 1:21 - loss: 2.946 - ETA: 1:21 - loss: 2.944 - ETA: 1:21 - loss: 2.945 - ETA: 1:20 - loss: 2.946 - ETA: 1:20 - loss: 2.945 - ETA: 1:20 - loss: 2.945 - ETA: 1:20 - loss: 2.944 - ETA: 1:19 - loss: 2.949 - ETA: 1:19 - loss: 2.947 - ETA: 1:19 - loss: 2.952 - ETA: 1:18 - loss: 2.951 - ETA: 1:18 - loss: 2.954 - ETA: 1:18 - loss: 2.954 - ETA: 1:18 - loss: 2.953 - ETA: 1:17 - loss: 2.955 - ETA: 1:17 - loss: 2.953 - ETA: 1:17 - loss: 2.954 - ETA: 1:17 - loss: 2.958 - ETA: 1:16 - loss: 2.958 - ETA: 1:16 - loss: 2.957 - ETA: 1:16 - loss: 2.957 - ETA: 1:16 - loss: 2.957 - ETA: 1:15 - loss: 2.956 - ETA: 1:15 - loss: 2.955 - ETA: 1:15 - loss: 2.955 - ETA: 1:14 - loss: 2.958 - ETA: 1:14 - loss: 2.959 - ETA: 1:14 - loss: 2.959 - ETA: 1:14 - loss: 2.956 - ETA: 1:13 - loss: 2.956 - ETA: 1:13 - loss: 2.955 - ETA: 1:13 - loss: 2.957 - ETA: 1:13 - loss: 2.956 - ETA: 1:12 - loss: 2.957 - ETA: 1:12 - loss: 2.956 - ETA: 1:12 - loss: 2.958 - ETA: 1:12 - loss: 2.957 - ETA: 1:11 - loss: 2.956 - ETA: 1:11 - loss: 2.955 - ETA: 1:11 - loss: 2.955 - ETA: 1:10 - loss: 2.957 - ETA: 1:10 - loss: 2.957 - ETA: 1:10 - loss: 2.958 - ETA: 1:10 - loss: 2.958 - ETA: 1:09 - loss: 2.959 - ETA: 1:09 - loss: 2.959 - ETA: 1:09 - loss: 2.960 - ETA: 1:09 - loss: 2.957 - ETA: 1:08 - loss: 2.958 - ETA: 1:08 - loss: 2.959 - ETA: 1:08 - loss: 2.959 - ETA: 1:08 - loss: 2.962 - ETA: 1:07 - loss: 2.961 - ETA: 1:07 - loss: 2.964 - ETA: 1:07 - loss: 2.962 - ETA: 1:06 - loss: 2.963 - ETA: 1:06 - loss: 2.963 - ETA: 1:06 - loss: 2.964 - ETA: 1:06 - loss: 2.966 - ETA: 1:05 - loss: 2.964 - ETA: 1:05 - loss: 2.964 - ETA: 1:05 - loss: 2.964 - ETA: 1:05 - loss: 2.963 - ETA: 1:04 - loss: 2.964 - ETA: 1:04 - loss: 2.965 - ETA: 1:04 - loss: 2.964 - ETA: 1:04 - loss: 2.967 - ETA: 1:03 - loss: 2.967 - ETA: 1:03 - loss: 2.966 - ETA: 1:03 - loss: 2.965 - ETA: 1:02 - loss: 2.965 - ETA: 1:02 - loss: 2.965 - ETA: 1:02 - loss: 2.965 - ETA: 1:02 - loss: 2.967 - ETA: 1:01 - loss: 2.967 - ETA: 1:01 - loss: 2.965 - ETA: 1:01 - loss: 2.966 - ETA: 1:01 - loss: 2.967 - ETA: 1:00 - loss: 2.965 - ETA: 1:00 - loss: 2.965 - ETA: 1:00 - loss: 2.965 - ETA: 59s - loss: 2.964 - ETA: 59s - loss: 2.96 - ETA: 59s - loss: 2.96 - ETA: 59s - loss: 2.96 - ETA: 58s - loss: 2.96 - ETA: 58s - loss: 2.96 - ETA: 58s - loss: 2.96 - ETA: 58s - loss: 2.96 - ETA: 57s - loss: 2.96 - ETA: 57s - loss: 2.96 - ETA: 57s - loss: 2.96 - ETA: 56s - loss: 2.96 - ETA: 56s - loss: 2.96 - ETA: 56s - loss: 2.96 - ETA: 56s - loss: 2.96 - ETA: 55s - loss: 2.96 - ETA: 55s - loss: 2.96 - ETA: 55s - loss: 2.96 - ETA: 55s - loss: 2.96 - ETA: 54s - loss: 2.96 - ETA: 54s - loss: 2.96 - ETA: 54s - loss: 2.96 - ETA: 54s - loss: 2.96 - ETA: 53s - loss: 2.96 - ETA: 53s - loss: 2.96 - ETA: 53s - loss: 2.96 - ETA: 52s - loss: 2.96 - ETA: 52s - loss: 2.96 - ETA: 52s - loss: 2.96 - ETA: 52s - loss: 2.96 - ETA: 51s - loss: 2.96 - ETA: 51s - loss: 2.96 - ETA: 51s - loss: 2.96 - ETA: 51s - loss: 2.96 - ETA: 50s - loss: 2.96 - ETA: 50s - loss: 2.96 - ETA: 50s - loss: 2.96 - ETA: 50s - loss: 2.96 - ETA: 49s - loss: 2.96 - ETA: 49s - loss: 2.96 - ETA: 49s - loss: 2.96 - ETA: 48s - loss: 2.96 - ETA: 48s - loss: 2.96 - ETA: 48s - loss: 2.96 - ETA: 48s - loss: 2.96 - ETA: 47s - loss: 2.96 - ETA: 47s - loss: 2.96 - ETA: 47s - loss: 2.96 - ETA: 47s - loss: 2.96 - ETA: 46s - loss: 2.96 - ETA: 46s - loss: 2.96 - ETA: 46s - loss: 2.96 - ETA: 46s - loss: 2.96 - ETA: 45s - loss: 2.95 - ETA: 45s - loss: 2.95 - ETA: 45s - loss: 2.95 - ETA: 44s - loss: 2.95 - ETA: 44s - loss: 2.95 - ETA: 44s - loss: 2.95 - ETA: 44s - loss: 2.95 - ETA: 43s - loss: 2.95 - ETA: 43s - loss: 2.95 - ETA: 43s - loss: 2.95 - ETA: 43s - loss: 2.95 - ETA: 42s - loss: 2.95 - ETA: 42s - loss: 2.95 - ETA: 42s - loss: 2.95 - ETA: 41s - loss: 2.94 - ETA: 41s - loss: 2.94 - ETA: 41s - loss: 2.94 - ETA: 41s - loss: 2.94 - ETA: 40s - loss: 2.94 - ETA: 40s - loss: 2.94 - ETA: 40s - loss: 2.94 - ETA: 40s - loss: 2.94 - ETA: 39s - loss: 2.94 - ETA: 39s - loss: 2.95 - ETA: 39s - loss: 2.94 - ETA: 39s - loss: 2.94 - ETA: 38s - loss: 2.94 - ETA: 38s - loss: 2.94 - ETA: 38s - loss: 2.94 - ETA: 37s - loss: 2.94 - ETA: 37s - loss: 2.94 - ETA: 37s - loss: 2.94 - ETA: 37s - loss: 2.94 - ETA: 36s - loss: 2.94 - ETA: 36s - loss: 2.94 - ETA: 36s - loss: 2.94 - ETA: 36s - loss: 2.94 - ETA: 35s - loss: 2.94 - ETA: 35s - loss: 2.94 - ETA: 35s - loss: 2.94 - ETA: 35s - loss: 2.94 - ETA: 34s - loss: 2.94 - ETA: 34s - loss: 2.94 - ETA: 34s - loss: 2.94 - ETA: 33s - loss: 2.94 - ETA: 33s - loss: 2.95 - ETA: 33s - loss: 2.95 - ETA: 33s - loss: 2.95 - ETA: 32s - loss: 2.94 - ETA: 32s - loss: 2.95 - ETA: 32s - loss: 2.95 - ETA: 32s - loss: 2.95 - ETA: 31s - loss: 2.95 - ETA: 31s - loss: 2.95 - ETA: 31s - loss: 2.95 - ETA: 30s - loss: 2.94 - ETA: 30s - loss: 2.95 - ETA: 30s - loss: 2.95 - ETA: 30s - loss: 2.95 - ETA: 29s - loss: 2.95 - ETA: 29s - loss: 2.95 - ETA: 29s - loss: 2.95 - ETA: 29s - loss: 2.95 - ETA: 28s - loss: 2.95 - ETA: 28s - loss: 2.95 - ETA: 28s - loss: 2.95 - ETA: 28s - loss: 2.95 - ETA: 27s - loss: 2.95 - ETA: 27s - loss: 2.95 - ETA: 27s - loss: 2.95 - ETA: 27s - loss: 2.95 - ETA: 26s - loss: 2.95 - ETA: 26s - loss: 2.95 - ETA: 26s - loss: 2.95 - ETA: 25s - loss: 2.95 - ETA: 25s - loss: 2.95 - ETA: 25s - loss: 2.95 - ETA: 25s - loss: 2.95 - ETA: 24s - loss: 2.95 - ETA: 24s - loss: 2.95 - ETA: 24s - loss: 2.95 - ETA: 24s - loss: 2.95 - ETA: 23s - loss: 2.94 - ETA: 23s - loss: 2.94 - ETA: 23s - loss: 2.95 - ETA: 23s - loss: 2.95 - ETA: 22s - loss: 2.95 - ETA: 22s - loss: 2.95 - ETA: 22s - loss: 2.95 - ETA: 21s - loss: 2.95 - ETA: 21s - loss: 2.95 - ETA: 21s - loss: 2.95 - ETA: 21s - loss: 2.95 - ETA: 20s - loss: 2.95 - ETA: 20s - loss: 2.95 - ETA: 20s - loss: 2.95 - ETA: 20s - loss: 2.95 - ETA: 19s - loss: 2.95 - ETA: 19s - loss: 2.95 - ETA: 19s - loss: 2.95 - ETA: 19s - loss: 2.95 - ETA: 18s - loss: 2.95 - ETA: 18s - loss: 2.95 - ETA: 18s - loss: 2.95 - ETA: 17s - loss: 2.95 - ETA: 17s - loss: 2.95 - ETA: 17s - loss: 2.95 - ETA: 17s - loss: 2.95 - ETA: 16s - loss: 2.95 - ETA: 16s - loss: 2.95 - ETA: 16s - loss: 2.94 - ETA: 16s - loss: 2.95 - ETA: 15s - loss: 2.95 - ETA: 15s - loss: 2.95 - ETA: 15s - loss: 2.95 - ETA: 15s - loss: 2.95 - ETA: 14s - loss: 2.94 - ETA: 14s - loss: 2.95 - ETA: 14s - loss: 2.94 - ETA: 13s - loss: 2.94 - ETA: 13s - loss: 2.94 - ETA: 13s - loss: 2.94 - ETA: 13s - loss: 2.94 - ETA: 12s - loss: 2.94 - ETA: 12s - loss: 2.94 - ETA: 12s - loss: 2.94 - ETA: 12s - loss: 2.94 - ETA: 11s - loss: 2.9441"
     ]
    },
    {
     "name": "stdout",
     "output_type": "stream",
     "text": [
      "1000/1000 [==============================] - ETA: 11s - loss: 2.94 - ETA: 11s - loss: 2.94 - ETA: 11s - loss: 2.94 - ETA: 10s - loss: 2.94 - ETA: 10s - loss: 2.94 - ETA: 10s - loss: 2.94 - ETA: 9s - loss: 2.9445 - ETA: 9s - loss: 2.946 - ETA: 9s - loss: 2.945 - ETA: 9s - loss: 2.944 - ETA: 8s - loss: 2.944 - ETA: 8s - loss: 2.945 - ETA: 8s - loss: 2.943 - ETA: 8s - loss: 2.942 - ETA: 7s - loss: 2.942 - ETA: 7s - loss: 2.941 - ETA: 7s - loss: 2.940 - ETA: 6s - loss: 2.942 - ETA: 6s - loss: 2.941 - ETA: 6s - loss: 2.941 - ETA: 6s - loss: 2.942 - ETA: 5s - loss: 2.942 - ETA: 5s - loss: 2.941 - ETA: 5s - loss: 2.943 - ETA: 5s - loss: 2.943 - ETA: 4s - loss: 2.942 - ETA: 4s - loss: 2.942 - ETA: 4s - loss: 2.942 - ETA: 4s - loss: 2.941 - ETA: 3s - loss: 2.941 - ETA: 3s - loss: 2.940 - ETA: 3s - loss: 2.941 - ETA: 2s - loss: 2.944 - ETA: 2s - loss: 2.945 - ETA: 2s - loss: 2.946 - ETA: 2s - loss: 2.945 - ETA: 1s - loss: 2.946 - ETA: 1s - loss: 2.947 - ETA: 1s - loss: 2.947 - ETA: 1s - loss: 2.946 - ETA: 0s - loss: 2.946 - ETA: 0s - loss: 2.944 - ETA: 0s - loss: 2.944 - 449s 449ms/step - loss: 2.9433 - val_loss: 2.9241\n",
      "\n",
      "Epoch 00030: val_loss did not improve from 2.82107\n"
     ]
    }
   ],
   "source": [
    "# TODO: Set the epochs to train for.\n",
    "# If you're resuming a previous training, set `initial_epoch` and `final_epoch` accordingly.\n",
    "initial_epoch   =28\n",
    "final_epoch     = 30\n",
    "\n",
    "steps_per_epoch = 1000\n",
    "\n",
    "history = model.fit_generator(generator=train_generator,\n",
    "                              steps_per_epoch=steps_per_epoch,\n",
    "                              epochs=final_epoch,\n",
    "                              callbacks=callbacks,\n",
    "                              validation_data=val_generator,\n",
    "                              validation_steps=ceil(val_dataset_size/batch_size),\n",
    "                              initial_epoch=initial_epoch)"
   ]
  },
  {
   "cell_type": "markdown",
   "metadata": {},
   "source": [
    "Let's look at how the training and validation loss evolved to check whether our training is going in the right direction:"
   ]
  },
  {
   "cell_type": "code",
   "execution_count": null,
   "metadata": {},
   "outputs": [],
   "source": []
  },
  {
   "cell_type": "code",
   "execution_count": 8,
   "metadata": {},
   "outputs": [
    {
     "data": {
      "image/png": "[encoded data removed]",
      "text/plain": [
       "<Figure size 1440x864 with 1 Axes>"
      ]
     },
     "metadata": {},
     "output_type": "display_data"
    }
   ],
   "source": [
    "plt.figure(figsize=(20,12))\n",
    "plt.plot(history.history['loss'], label='loss')\n",
    "plt.plot(history.history['val_loss'], label='val_loss')\n",
    "plt.legend(loc='upper right', prop={'size': 24});"
   ]
  },
  {
   "cell_type": "markdown",
   "metadata": {},
   "source": [
    "The validation loss has been decreasing at a similar pace as the training loss, indicating that our model has been learning effectively over the last 30 epochs. We could try to train longer and see if the validation loss can be decreased further. Once the validation loss stops decreasing for a couple of epochs in a row, that's when we will want to stop training. Our final weights will then be the weights of the epoch that had the lowest validation loss."
   ]
  },
  {
   "cell_type": "markdown",
   "metadata": {},
   "source": [
    "### 5. Make predictions\n",
    "\n",
    "Now let's make some predictions on the validation dataset with the trained model. For convenience we'll use the validation generator which we've already set up above. Feel free to change the batch size.\n",
    "\n",
    "You can set the `shuffle` option to `False` if you would like to check the model's progress on the same image(s) over the course of the training."
   ]
  },
  {
   "cell_type": "code",
   "execution_count": 7,
   "metadata": {},
   "outputs": [],
   "source": [
    "# 1: Set the generator for the predictions.\n",
    "\n",
    "predict_generator = val_dataset.generate(batch_size=8,\n",
    "                                         shuffle=True,\n",
    "                                         transformations=[],\n",
    "                                         label_encoder=None,\n",
    "                                         returns={'processed_images',\n",
    "                                                  'processed_labels',\n",
    "                                                  'filenames'},\n",
    "                                         keep_images_without_gt=False)"
   ]
  },
  {
   "cell_type": "code",
   "execution_count": 8,
   "metadata": {},
   "outputs": [
    {
     "name": "stdout",
     "output_type": "stream",
     "text": [
      "Image: datasets/ICUB/ims2\\ringbinder_ (1752).jpg\n",
      "\n",
      "Ground truth boxes:\n",
      "\n",
      "[[  4 288 144 484 320]]\n"
     ]
    }
   ],
   "source": [
    "# 2: Generate samples\n",
    "\n",
    "\n",
    "batch_images, batch_labels, batch_filenames = next(predict_generator)\n",
    "\n",
    "i = 0 # Which batch item to look at\n",
    "\n",
    "print(\"Image:\", batch_filenames[i])\n",
    "print()\n",
    "print(\"Ground truth boxes:\\n\")\n",
    "print(batch_labels[i])"
   ]
  },
  {
   "cell_type": "code",
   "execution_count": null,
   "metadata": {},
   "outputs": [],
   "source": [
    "# 3: Make a prediction\n",
    "\n",
    "y_pred = model.predict(batch_images)\n",
    "y_pred.shape"
   ]
  },
  {
   "cell_type": "markdown",
   "metadata": {},
   "source": [
    "Now let's decode the raw predictions in `y_pred`.\n",
    "\n",
    "Had we created the model in 'inference' or 'inference_fast' mode, then the model's final layer would be a `DecodeDetections` layer and `y_pred` would already contain the decoded predictions, but since we created the model in 'training' mode, the model outputs raw predictions that still need to be decoded and filtered. This is what the `decode_detections()` function is for. It does exactly what the `DecodeDetections` layer would do, but using Numpy instead of TensorFlow (i.e. on the CPU instead of the GPU).\n",
    "\n",
    "`decode_detections()` with default argument values follows the procedure of the original SSD implementation: First, a very low confidence threshold of 0.01 is applied to filter out the majority of the predicted boxes, then greedy non-maximum suppression is performed per class with an intersection-over-union threshold of 0.45, and out of what is left after that, the top 200 highest confidence boxes are returned. Those settings are for precision-recall scoring purposes though. In order to get some usable final predictions, we'll set the confidence threshold much higher, e.g. to 0.5, since we're only interested in the very confident predictions."
   ]
  },
  {
   "cell_type": "code",
   "execution_count": null,
   "metadata": {},
   "outputs": [],
   "source": [
    "# 4: Decode the raw prediction `y_pred`\n",
    "\n",
    "y_pred_decoded = decode_detections(y_pred,\n",
    "                                   confidence_thresh=0.2,\n",
    "                                   iou_threshold=0.25,\n",
    "                                   top_k=1,\n",
    "                                   normalize_coords=normalize_coords,\n",
    "                                   img_height=img_height,\n",
    "                                   img_width=img_width)\n",
    "\n",
    "np.set_printoptions(precision=2, suppress=True, linewidth=90)\n",
    "print(\"Predicted boxes:\\n\")\n",
    "print('   class   conf xmin   ymin   xmax   ymax')\n",
    "print(y_pred_decoded[i])"
   ]
  },
  {
   "cell_type": "markdown",
   "metadata": {},
   "source": [
    "##### Finally, let's draw the predicted boxes onto the image. Each predicted box says its confidence next to the category name. The ground truth boxes are also drawn onto the image in green for comparison."
   ]
  },
  {
   "cell_type": "code",
   "execution_count": null,
   "metadata": {
    "scrolled": true
   },
   "outputs": [],
   "source": [
    "# 5: Draw the predicted boxes onto the image\n",
    "\n",
    "plt.figure(figsize=(20,12))\n",
    "plt.imshow(batch_images[0])\n",
    "\n",
    "current_axis = plt.gca()\n",
    "\n",
    "colors = plt.cm.hsv(np.linspace(0, 1, n_classes+1)).tolist() # Set the colors for the bounding boxes\n",
    "classes = ['background','book','cellphone','mouse','ringbinder'] # Just so we can print class names onto the image instead of IDs\n",
    "\n",
    "# Draw the ground truth boxes in green (omit the label for more clarity)\n",
    "for box in batch_labels[i]:\n",
    "    xmin = box[1]\n",
    "    ymin = box[2]\n",
    "    xmax = box[3]\n",
    "    ymax = box[4]\n",
    "    label = '{}'.format(classes[int(box[0])])\n",
    "    current_axis.add_patch(plt.Rectangle((xmin, ymin), xmax-xmin, ymax-ymin, color='green', fill=False, linewidth=2))  \n",
    "    #current_axis.text(xmin, ymin, label, size='x-large', color='white', bbox={'facecolor':'green', 'alpha':1.0})\n",
    "\n",
    "# Draw the predicted boxes in blue\n",
    "for box in y_pred_decoded[i]:\n",
    "    xmin = box[-4]\n",
    "    ymin = box[-3]\n",
    "    xmax = box[-2]\n",
    "    ymax = box[-1]\n",
    "    color = colors[int(box[0])]\n",
    "    label = '{}: {:.2f}'.format(classes[int(box[0])], box[1])\n",
    "    current_axis.add_patch(plt.Rectangle((xmin, ymin), xmax-xmin, ymax-ymin, color=color, fill=False, linewidth=2))  \n",
    "    current_axis.text(xmin, ymin, label, size='x-large', color='white', bbox={'facecolor':color, 'alpha':1.0})"
   ]
  },
  {
   "cell_type": "code",
   "execution_count": 35,
   "metadata": {},
   "outputs": [],
   "source": [
    "import numpy as np\n",
    "import cv2\n",
    "frames=np.zeros((1,480,640,3))\n",
    "cap = cv2.VideoCapture(0)\n",
    "colors = plt.cm.hsv(np.linspace(0, 1, n_classes+1)).tolist() \n",
    "font                   = cv2.FONT_HERSHEY_SIMPLEX\n",
    "\n",
    "fontScale              = 1\n",
    "fontColor              = (255,255,255)\n",
    "lineType               = 2\n",
    "while(True):\n",
    "    # Capture frame-by-frame\n",
    "    ret, frame = cap.read()\n",
    "    x = 20\n",
    "    y = 40\n",
    "    w = 100\n",
    "    h = 75\n",
    "    frames[0] = frame\n",
    "    y_pred = model.predict(frames)\n",
    "    y_pred_decoded = decode_detections(y_pred,\n",
    "                                   confidence_thresh=0.5,\n",
    "                                   iou_threshold=0.25,\n",
    "                                   top_k=1,\n",
    "                                   normalize_coords=normalize_coords,\n",
    "                                   img_height=img_height,\n",
    "                                   img_width=img_width)\n",
    "    \n",
    "    np.set_printoptions(precision=2, suppress=True, linewidth=90)\n",
    "    for box in y_pred_decoded[i]:\n",
    "        xmin = int(box[-4])\n",
    "        ymin = int(box[-3])\n",
    "        xmax = int(box[-2])\n",
    "        ymax = int(box[-1])\n",
    "        color = colors[int(box[0])]\n",
    "        cv2.putText(frame,classes[int(box[0])], \n",
    "        (xmin,ymin), \n",
    "        font, \n",
    "        fontScale,\n",
    "        fontColor,\n",
    "        lineType)\n",
    "\n",
    "        cv2.rectangle(frame, (xmin, xmin), (xmax, ymax), color, 2)    \n",
    "    # Our operations on the frame come here\n",
    "    if cv2.waitKey(1) & 0xFF == ord('q'):\n",
    "        break\n",
    "    else:\n",
    "        cv2.rectangle(frame, (x, y), (x+w, y+h), (0, 255, 0), 2)\n",
    "        \n",
    "\n",
    "    # Display the resulting frame\n",
    "    cv2.imshow('frame',frame)\n",
    "    \n",
    "\n",
    "# When everything done, release the capture\n",
    "cap.release()\n",
    "cv2.destroyAllWindows()"
   ]
  },
  {
   "cell_type": "code",
   "execution_count": 92,
   "metadata": {},
   "outputs": [
    {
     "ename": "FileNotFoundError",
     "evalue": "[WinError 3] The system cannot find the path specified: 'datasets\\\\ICUB\\\\annotations\\\\ringbinder\\\\'",
     "output_type": "error",
     "traceback": [
      "\u001b[1;31m---------------------------------------------------------------------------\u001b[0m",
      "\u001b[1;31mFileNotFoundError\u001b[0m                         Traceback (most recent call last)",
      "\u001b[1;32m<ipython-input-92-9a281cafe97d>\u001b[0m in \u001b[0;36m<module>\u001b[1;34m()\u001b[0m\n\u001b[0;32m      2\u001b[0m \u001b[1;32mfrom\u001b[0m \u001b[0mxml\u001b[0m\u001b[1;33m.\u001b[0m\u001b[0metree\u001b[0m\u001b[1;33m.\u001b[0m\u001b[0mElementTree\u001b[0m \u001b[1;32mimport\u001b[0m \u001b[0mElementTree\u001b[0m\u001b[1;33m\u001b[0m\u001b[0m\n\u001b[0;32m      3\u001b[0m \u001b[0mcurDir\u001b[0m \u001b[1;33m=\u001b[0m \u001b[1;34m'datasets\\\\ICUB\\\\annotations\\\\ringbinder\\\\'\u001b[0m\u001b[1;33m\u001b[0m\u001b[0m\n\u001b[1;32m----> 4\u001b[1;33m \u001b[1;32mfor\u001b[0m \u001b[0mfilename\u001b[0m \u001b[1;32min\u001b[0m \u001b[0mos\u001b[0m\u001b[1;33m.\u001b[0m\u001b[0mlistdir\u001b[0m\u001b[1;33m(\u001b[0m\u001b[0mcurDir\u001b[0m\u001b[1;33m)\u001b[0m\u001b[1;33m:\u001b[0m\u001b[1;33m\u001b[0m\u001b[0m\n\u001b[0m\u001b[0;32m      5\u001b[0m     \u001b[1;32mif\u001b[0m \u001b[0mfilename\u001b[0m\u001b[1;33m.\u001b[0m\u001b[0mendswith\u001b[0m\u001b[1;33m(\u001b[0m\u001b[1;34m\".xml\"\u001b[0m\u001b[1;33m)\u001b[0m\u001b[1;33m:\u001b[0m\u001b[1;33m\u001b[0m\u001b[0m\n\u001b[0;32m      6\u001b[0m         \u001b[0mfullPath\u001b[0m \u001b[1;33m=\u001b[0m \u001b[0mcurDir\u001b[0m\u001b[1;33m+\u001b[0m\u001b[0mfilename\u001b[0m\u001b[1;33m\u001b[0m\u001b[0m\n",
      "\u001b[1;31mFileNotFoundError\u001b[0m: [WinError 3] The system cannot find the path specified: 'datasets\\\\ICUB\\\\annotations\\\\ringbinder\\\\'"
     ]
    }
   ],
   "source": [
    "import os\n",
    "from xml.etree.ElementTree import ElementTree\n",
    "curDir = 'datasets\\\\ICUB\\\\annotations\\\\ringbinder\\\\'\n",
    "for filename in os.listdir(curDir):\n",
    "    if filename.endswith(\".xml\"):\n",
    "        fullPath = curDir+filename\n",
    "        tree = ElementTree()\n",
    "        root = tree.parse(fullPath)\n",
    "        for node in root.findall(\".//object/name\"):\n",
    "            node.text='ringbinder'\n",
    "        tree.write(fullPath)\n",
    "        "
   ]
  },
  {
   "cell_type": "code",
   "execution_count": 71,
   "metadata": {},
   "outputs": [],
   "source": [
    "import numpy as np\n",
    "from sklearn.model_selection import train_test_split"
   ]
  },
  {
   "cell_type": "code",
   "execution_count": 9,
   "metadata": {},
   "outputs": [],
   "source": [
    "x = np.arange(1,129)\n",
    "xtrain = x"
   ]
  },
  {
   "cell_type": "code",
   "execution_count": 10,
   "metadata": {},
   "outputs": [
    {
     "name": "stdout",
     "output_type": "stream",
     "text": [
      "[  1   2   3   4   5   6   7   8   9  10  11  12  13  14  15  16  17  18\n",
      "  19  20  21  22  23  24  25  26  27  28  29  30  31  32  33  34  35  36\n",
      "  37  38  39  40  41  42  43  44  45  46  47  48  49  50  51  52  53  54\n",
      "  55  56  57  58  59  60  61  62  63  64  65  66  67  68  69  70  71  72\n",
      "  73  74  75  76  77  78  79  80  81  82  83  84  85  86  87  88  89  90\n",
      "  91  92  93  94  95  96  97  98  99 100 101 102 103 104 105 106 107 108\n",
      " 109 110 111 112 113 114 115 116 117 118 119 120 121 122 123 124 125 126\n",
      " 127 128]\n"
     ]
    }
   ],
   "source": [
    "print(x)"
   ]
  },
  {
   "cell_type": "code",
   "execution_count": 156,
   "metadata": {},
   "outputs": [],
   "source": [
    "xtrain,xtest,ytrain,ytest=train_test_split(x, x, test_size=0.25)"
   ]
  },
  {
   "cell_type": "code",
   "execution_count": 157,
   "metadata": {},
   "outputs": [
    {
     "name": "stdout",
     "output_type": "stream",
     "text": [
      "[ 18  29  61  94  74  90  75  58  31  12  47  16  68   5  37  82   9  38\n",
      "  52  11  26  45  93  25  48  72  88   7  78  56  64  63  59 100  53   2\n",
      "  71  84  41  50  30  67  28  95  20  96  54  99  22  39  10  14  49  34\n",
      "  57  55  80  40  77  98   8  73  32  66  69  36  33  23  79  97  35  17\n",
      "  19  43  91]\n"
     ]
    }
   ],
   "source": [
    "print(xtrain)\n",
    "category= 'ringbinder5'"
   ]
  },
  {
   "cell_type": "code",
   "execution_count": 11,
   "metadata": {},
   "outputs": [],
   "source": [
    "import numpy as np\n",
    "from sklearn.model_selection import train_test_split\n",
    "x = np.arange(1,129)\n",
    "classes = ['book1','book2','book3','book4','book5',\n",
    "          'cellphone1','cellphone2','cellphone3','cellphone4','cellphone5',\n",
    "          'mouse1','mouse2','mouse3','mouse4','mouse5',\n",
    "          'ringbinder1','ringbinder2','ringbinder3','ringbinder4','ringbinder5']\n",
    "for category in classes:\n",
    "    xtrain,xtest,ytrain,ytest=train_test_split(x, x, test_size=0.25)\n",
    "\n",
    "    file = open(\"datasets//ICUB_Instance//train.txt\",\"a\") \n",
    "\n",
    "    for i in xtrain:\n",
    "        file.write(category+'_'+str(i)+'\\n')\n",
    "\n",
    "    file.close()\n",
    "    file = open(\"datasets//ICUB_Instance//val.txt\",\"a\") \n",
    "\n",
    "    for i in xtest:\n",
    "        file.write(category+'_'+str(i)+'\\n')\n",
    "\n",
    "    file.close()"
   ]
  },
  {
   "cell_type": "code",
   "execution_count": 110,
   "metadata": {},
   "outputs": [],
   "source": [
    "classes = ['book1','book2','book3','book4','book5',\n",
    "          'cellphone1','cellphone2','cellphone3','cellphone4','cellphone5',\n",
    "          'mouse1','mouse2','mouse3','mouse4','mouse5',\n",
    "          'ringbinder1','ringbinder2','ringbinder3','ringbinder4','ringbinder5']\n",
    "x = np.arange(129,151)\n",
    "file = open(\"datasets//ICUB_Instance//test.txt\",\"a\") \n",
    "for category in classes:\n",
    "    for i in x:\n",
    "        file.write(category+'_'+str(i)+'\\n')\n",
    "file.close()"
   ]
  },
  {
   "cell_type": "code",
   "execution_count": 159,
   "metadata": {},
   "outputs": [],
   "source": []
  },
  {
   "cell_type": "code",
   "execution_count": 91,
   "metadata": {},
   "outputs": [],
   "source": [
    "cv2.putText??\n"
   ]
  },
  {
   "cell_type": "code",
   "execution_count": null,
   "metadata": {},
   "outputs": [],
   "source": []
  }
 ],
 "metadata": {
  "kernelspec": {
   "display_name": "Python 3",
   "language": "python",
   "name": "python3"
  },
  "language_info": {
   "codemirror_mode": {
    "name": "ipython",
    "version": 3
   },
   "file_extension": ".py",
   "mimetype": "text/x-python",
   "name": "python",
   "nbconvert_exporter": "python",
   "pygments_lexer": "ipython3",
   "version": "3.5.5"
  }
 },
 "nbformat": 4,
 "nbformat_minor": 2
}
